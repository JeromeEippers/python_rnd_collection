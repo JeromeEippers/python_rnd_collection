{
 "cells": [
  {
   "cell_type": "code",
   "execution_count": 3,
   "metadata": {},
   "outputs": [],
   "source": [
    "%matplotlib inline"
   ]
  },
  {
   "cell_type": "code",
   "execution_count": 34,
   "metadata": {},
   "outputs": [
    {
     "name": "stdout",
     "output_type": "stream",
     "text": [
      "[[5 8 3 0]\n",
      " [5 8 2 0]\n",
      " [6 8 3 0]\n",
      " [6 8 1 0]\n",
      " [6 5 8 3]\n",
      " [6 5 4 8]\n",
      " [7 8 2 0]\n",
      " [7 8 1 0]\n",
      " [7 5 8 2]\n",
      " [7 5 4 8]\n",
      " [7 6 8 1]\n",
      " [7 6 4 8]]\n"
     ]
    },
    {
     "data": {
      "application/vnd.jupyter.widget-view+json": {
       "model_id": "acc19d82363340a8980e303fc8a04b6d",
       "version_major": 2,
       "version_minor": 0
      },
      "text/plain": [
       "Output()"
      ]
     },
     "metadata": {},
     "output_type": "display_data"
    }
   ],
   "source": [
    "import numpy as np\n",
    "from scipy.spatial import Delaunay, Voronoi\n",
    "import k3d\n",
    "\n",
    "\n",
    "points = np.array([[-1,-1,-1],[-1,-1,1],[-1,1,-1],[1,-1,-1],[1,1,1],[1,1,-1],[1,-1,1],[-1,1,1],[0,0.5,0]])\n",
    "\n",
    "tri = Delaunay(points, qhull_options = 'Qt Qbb Qc').simplices\n",
    "\n",
    "#discar flat tetrahedron\n",
    "keep = np.ones(len(tri), dtype = bool)\n",
    "for i, t in enumerate(tri):\n",
    "    if abs(np.linalg.det(np.hstack((points[t], np.ones([1,3+1]).T)))) < 1E-15:\n",
    "        keep[i] = False # Point is coplanar, we don't want to keep it\n",
    "tri = tri[keep]\n",
    "\n",
    "print (tri)\n",
    "\n",
    "#flatten vertices list\n",
    "vertices = [p for pt in points for p in pt]\n",
    "\n",
    "#triangulate tetrahedron\n",
    "indices = [[t[0],t[1],t[2],t[0],t[1],t[3],t[0],t[2],t[3],t[1],t[2],t[3]] for t in tri]\n",
    "\n",
    "#flatten triangle indices\n",
    "indices = [t for tri in indices for t in tri]\n",
    "\n",
    "plot = k3d.plot()\n",
    "plot += k3d.mesh(vertices, indices, wireframe=True)\n",
    "plot.display()\n"
   ]
  },
  {
   "cell_type": "code",
   "execution_count": null,
   "metadata": {},
   "outputs": [],
   "source": []
  }
 ],
 "metadata": {
  "kernelspec": {
   "display_name": "Python 3",
   "language": "python",
   "name": "python3"
  },
  "language_info": {
   "codemirror_mode": {
    "name": "ipython",
    "version": 3
   },
   "file_extension": ".py",
   "mimetype": "text/x-python",
   "name": "python",
   "nbconvert_exporter": "python",
   "pygments_lexer": "ipython3",
   "version": "3.7.3"
  }
 },
 "nbformat": 4,
 "nbformat_minor": 2
}
