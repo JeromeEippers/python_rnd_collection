{
 "cells": [
  {
   "cell_type": "code",
   "execution_count": 24,
   "metadata": {},
   "outputs": [
    {
     "name": "stdout",
     "output_type": "stream",
     "text": [
      "      fun: 6.985702682982264e-09\n",
      " hess_inv: array([[1.09725665, 0.        , 0.        , 0.26439674, 0.        ,\n",
      "        0.        ],\n",
      "       [0.        , 1.        , 0.        , 0.        , 0.        ,\n",
      "        0.        ],\n",
      "       [0.        , 0.        , 1.        , 0.        , 0.        ,\n",
      "        0.        ],\n",
      "       [0.26439674, 0.        , 0.        , 0.37394987, 0.        ,\n",
      "        0.        ],\n",
      "       [0.        , 0.        , 0.        , 0.        , 1.        ,\n",
      "        0.        ],\n",
      "       [0.        , 0.        , 0.        , 0.        , 0.        ,\n",
      "        1.        ]])\n",
      "      jac: array([0.06239486, 0.        , 0.        , 1.        , 0.        ,\n",
      "       0.        ])\n",
      "  message: 'Desired error not necessarily achieved due to precision loss.'\n",
      "     nfev: 612\n",
      "      nit: 1\n",
      "     njev: 75\n",
      "   status: 2\n",
      "  success: False\n",
      "        x: array([-0.5,  0. ,  0. ,  1.5,  0. ,  0. ])\n"
     ]
    }
   ],
   "source": [
    "import numpy as np\n",
    "from scipy.optimize import minimize\n",
    "from scipy.spatial.distance import euclidean\n",
    "\n",
    "theDist = 2\n",
    "\n",
    "pt1 = np.array([0,0,0])\n",
    "pt2 = np.array([1,0,0])\n",
    "\n",
    "def objective(P):\n",
    "    a = P[0:3]\n",
    "    b = P[3:]\n",
    "    return np.abs(euclidean(a,b) - theDist)\n",
    "\n",
    "P = np.array([pt1, pt2]).flatten()\n",
    "\n",
    "m = minimize(objective, P)\n",
    "print ( m )\n",
    "    \n",
    "    "
   ]
  }
 ],
 "metadata": {
  "kernelspec": {
   "display_name": "Python 3",
   "language": "python",
   "name": "python3"
  },
  "language_info": {
   "codemirror_mode": {
    "name": "ipython",
    "version": 3
   },
   "file_extension": ".py",
   "mimetype": "text/x-python",
   "name": "python",
   "nbconvert_exporter": "python",
   "pygments_lexer": "ipython3",
   "version": "3.7.3"
  }
 },
 "nbformat": 4,
 "nbformat_minor": 2
}
