{
 "cells": [
  {
   "cell_type": "markdown",
   "metadata": {},
   "source": [
    "# Little research to see how to realign a Matrix\n"
   ]
  },
  {
   "cell_type": "code",
   "execution_count": 4,
   "metadata": {},
   "outputs": [
    {
     "data": {
      "application/vnd.jupyter.widget-view+json": {
       "model_id": "b55ba6d989e04460b621da687915a779",
       "version_major": 2,
       "version_minor": 0
      },
      "text/plain": [
       "Output()"
      ]
     },
     "metadata": {},
     "output_type": "display_data"
    }
   ],
   "source": [
    "import numpy as np\n",
    "import k3d\n",
    "\n",
    "I = np.array([[1,0,0,0],[0,1,0,0],[0,0,1,0],[0,0,0,1]], dtype=float)\n",
    "\n",
    "def get_plot_from_matrix(M):\n",
    "    origins = M[3][:3].tolist()*3\n",
    "    vectors = M[0][:3].tolist()+M[1][:3].tolist()+M[2][:3].tolist()\n",
    "    colors = [0xff0000, 0xff0000, 0x00ff00, 0x00ff00, 0x0000ff, 0x0000ff]\n",
    "    return k3d.vectors(origins, vectors, colors=colors)\n",
    "\n",
    "def get_plot_from_vector(M, vector, color=0x000000):\n",
    "    origins = M[3][:3].tolist()\n",
    "    vectors = vector.tolist()\n",
    "    colors = [color,color]\n",
    "    return k3d.vectors(origins, vectors, colors=colors)\n",
    "\n",
    "def get_M_aligned_to_x(M, x):\n",
    "    x = x/np.linalg.norm(x)\n",
    "    z = np.cross(x, M[1][:3])\n",
    "    y = np.cross(z, x)\n",
    "    return np.array([x.tolist()+[0],y.tolist()+[0],z.tolist()+[0],M[3]], dtype=float)\n",
    "\n",
    "def get_M_aligned_to_y(M, y):\n",
    "    y = y/np.linalg.norm(y)\n",
    "    x = np.cross(y, M[2][:3])\n",
    "    z = np.cross(x, y)\n",
    "    return np.array([x.tolist()+[0],y.tolist()+[0],z.tolist()+[0],M[3]], dtype=float)\n",
    "\n",
    "def get_M_aligned_to_z(M, z):\n",
    "    z = z/np.linalg.norm(z)\n",
    "    y = np.cross(z, M[0][:3])\n",
    "    x = np.cross(y, z)\n",
    "    return np.array([x.tolist()+[0],y.tolist()+[0],z.tolist()+[0],M[3]], dtype=float)\n",
    "    \n",
    "\n",
    "    \n",
    "Mroot = np.array([[1,0,0,0],[0,1,0,0],[0,0,1,0],[0,0,1,1]], dtype=float)\n",
    "localV = np.array([3,0,0])\n",
    "localV2 = np.array([3,0.3,0.6])\n",
    "\n",
    "Malign = get_M_aligned_to_x(I, localV)\n",
    "Malign[3][:3] = Mroot[3][:3]\n",
    "\n",
    "#compute root as beeing child of align\n",
    "MrootLocalToAlign = np.dot(Mroot, np.linalg.inv(Malign))\n",
    "\n",
    "#rotate align\n",
    "Malign = get_M_aligned_to_x(Malign, localV2)\n",
    "\n",
    "#recompute root\n",
    "MnewRoot = np.dot(MrootLocalToAlign, Malign)\n",
    "\n",
    "plot = k3d.plot()\n",
    "plot += get_plot_from_matrix(Mroot)\n",
    "plot += get_plot_from_vector(Mroot, localV)\n",
    "plot += get_plot_from_vector(Mroot, localV2, 0x555555)\n",
    "plot += get_plot_from_matrix(MnewRoot)\n",
    "plot.display()\n"
   ]
  },
  {
   "cell_type": "code",
   "execution_count": 5,
   "metadata": {},
   "outputs": [
    {
     "data": {
      "application/vnd.jupyter.widget-view+json": {
       "model_id": "9902ba67ec5f48d9ac1dae9cae087ba9",
       "version_major": 2,
       "version_minor": 0
      },
      "text/plain": [
       "Output()"
      ]
     },
     "metadata": {},
     "output_type": "display_data"
    }
   ],
   "source": [
    "import numpy as np\n",
    "\n",
    "class RealignMatrix(object):\n",
    "    \n",
    "    @staticmethod\n",
    "    def get_M_aligned_to_x(M, x):\n",
    "        x = x/np.linalg.norm(x)\n",
    "        z = np.cross(x, M[1][:3])\n",
    "        y = np.cross(z, x)\n",
    "        return np.array([x.tolist()+[0],y.tolist()+[0],z.tolist()+[0],M[3]], dtype=float)\n",
    "\n",
    "    @staticmethod\n",
    "    def get_M_aligned_to_y(M, y):\n",
    "        y = y/np.linalg.norm(y)\n",
    "        x = np.cross(y, M[2][:3])\n",
    "        z = np.cross(x, y)\n",
    "        return np.array([x.tolist()+[0],y.tolist()+[0],z.tolist()+[0],M[3]], dtype=float)\n",
    "\n",
    "    @staticmethod\n",
    "    def get_M_aligned_to_z(M, z):\n",
    "        z = z/np.linalg.norm(z)\n",
    "        y = np.cross(z, M[0][:3])\n",
    "        x = np.cross(y, z)\n",
    "        return np.array([x.tolist()+[0],y.tolist()+[0],z.tolist()+[0],M[3]], dtype=float)\n",
    "    \n",
    "    \n",
    "    def __init__(self, M, local_vectors):\n",
    "        I = np.array([[1,0,0,0],[0,1,0,0],[0,0,1,0],[0,0,0,1]], dtype=float)\n",
    "        \n",
    "        #get the main axis of the vectors\n",
    "        self._aligned_axis = np.argmax(local_vectors*local_vectors, axis=1)\n",
    "        \n",
    "        #compute all the local aligned matrix :\n",
    "        self._aligned_matrices = []\n",
    "        self._local_parent_matrices = []\n",
    "        for axis, vector in zip(self._aligned_axis, local_vectors):\n",
    "            matrix = [self.get_M_aligned_to_x, self.get_M_aligned_to_y, self.get_M_aligned_to_z][axis](I, vector)\n",
    "            matrix[3][:3] = M[3][:3]\n",
    "            self._aligned_matrices.append(np.dot(M, np.linalg.inv(matrix)))\n",
    "            \n",
    "    def solve_from_local_vectors(self, M, local_vectors):\n",
    "        alignedMatrices = [\n",
    "            np.dot(\n",
    "                matrix,\n",
    "                [self.get_M_aligned_to_x, self.get_M_aligned_to_y, self.get_M_aligned_to_z][axis](M, vector)\n",
    "            ) \n",
    "            for axis, matrix, vector in zip(self._aligned_axis, self._aligned_matrices, local_vectors)\n",
    "        ]\n",
    "        \n",
    "        result_matrix = alignedMatrices[0]\n",
    "        \n",
    "        if len(alignedMatrices)>1:\n",
    "            result_matrix = np.sum(alignedMatrices, axis=0)\n",
    "            x = result_matrix[0][:3]\n",
    "            y = result_matrix[1][:3]\n",
    "            x = x/np.linalg.norm(x)\n",
    "            y = y/np.linalg.norm(y)\n",
    "            z = np.cross(x, y)\n",
    "            y = np.cross(z, x)\n",
    "            result_matrix = np.array([x.tolist()+[0],y.tolist()+[0],z.tolist()+[0],[0,0,0,1]], dtype=float)\n",
    "            \n",
    "        result_matrix[3][:3] = M[3][:3]\n",
    "        return result_matrix\n",
    "    \n",
    "    def solve_from_world_coordinates(self, M, M_world, world_points):\n",
    "        world_inv = np.linalg.inv(M_world)\n",
    "        local_vectors = [\n",
    "            np.dot([p[0],p[1],p[2],1], world_inv)[:3] for p in world_points\n",
    "        ]\n",
    "        return self.solve_from_local_vectors(M, local_vectors)\n",
    "        \n",
    "\n",
    "M = np.array([[1,0,0,0],[0,1,0,0],[0,0,1,0],[0,0,1,1]], dtype=float)\n",
    "Vs = np.array([[2,.1,.5], [0,2,.5], [0,-2,1]])\n",
    "Vs2 = np.array([[3,2.1,.5], [0,3,.5], [0,-2,1]])\n",
    "Vs3 = np.array([[3,2.1,1.5], [0,3,1.5], [0,-2,2]])\n",
    "\n",
    "plot = k3d.plot()\n",
    "plot.display()\n",
    "\n",
    "plot += get_plot_from_matrix(M)\n",
    "for v in Vs:\n",
    "    plot += get_plot_from_vector(M, v)\n",
    "for v in Vs2:\n",
    "    plot += get_plot_from_vector(M, v, 0x555555)\n",
    "    \n",
    "align = RealignMatrix(M,Vs)\n",
    "newM = align.solve_from_local_vectors(M, Vs2)\n",
    "plot += get_plot_from_matrix(newM)\n",
    "\n",
    "newM = align.solve_from_world_coordinates(M, M, Vs3)\n",
    "plot += get_plot_from_matrix(newM)\n"
   ]
  }
 ],
 "metadata": {
  "kernelspec": {
   "display_name": "Python 3",
   "language": "python",
   "name": "python3"
  },
  "language_info": {
   "codemirror_mode": {
    "name": "ipython",
    "version": 3
   },
   "file_extension": ".py",
   "mimetype": "text/x-python",
   "name": "python",
   "nbconvert_exporter": "python",
   "pygments_lexer": "ipython3",
   "version": "3.7.3"
  }
 },
 "nbformat": 4,
 "nbformat_minor": 2
}
