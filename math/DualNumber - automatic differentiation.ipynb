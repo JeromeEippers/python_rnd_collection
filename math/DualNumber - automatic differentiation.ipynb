{
 "cells": [
  {
   "cell_type": "markdown",
   "metadata": {},
   "source": [
    "# Dual Numbers.\n",
    "\n",
    "Dual numbers have the form\n",
    "z = a + b ε    with ε<sup>2</sup> = 0\n",
    "\n",
    "Similar to complex numbers.\n",
    "* a = real(z) is the real part, and\n",
    "* b = dual(z) is the dual part.\n",
    "\n",
    "\n",
    "Thanks to Gino van den Bergen for all his gdc talks.\n",
    "http://www.dtecta.com/publications\n"
   ]
  },
  {
   "cell_type": "code",
   "execution_count": 8,
   "metadata": {},
   "outputs": [],
   "source": [
    "class DualNumber(object):\n",
    "    \n",
    "    def __init__(self, real, dual=0):\n",
    "        self.real = real\n",
    "        self.dual = dual\n",
    "        \n",
    "    def __add__(self, other):\n",
    "        if isinstance(other, DualNumber):\n",
    "            return DualNumber(self.real + other.real, self.dual + other.dual)\n",
    "        return DualNumber(self.real + other, self.dual)\n",
    "    \n",
    "    def __sub__(self, other):\n",
    "        if isinstance(other, DualNumber):\n",
    "            return DualNumber(self.real - other.real, self.dual - other.dual)\n",
    "        return DualNumber(self.real - other, self.dual)\n",
    "    \n",
    "    def __mul__(self, other):\n",
    "        if isinstance(other, DualNumber):\n",
    "            dual = self.dual * other.real\n",
    "            dual += self.real * other.dual\n",
    "            real = self.real * other.real\n",
    "            return DualNumber(real, dual)\n",
    "        return DualNumber(self.real * other, self.dual * other)\n",
    "    \n",
    "    def __truediv__(self, other):\n",
    "        if isinstance(other, DualNumber):\n",
    "            real = self.real / other.real\n",
    "            dual = self.dual - (real * other.dual)\n",
    "            dual /= other.real\n",
    "            return DualNumber(real, dual)\n",
    "        return DualNumber(self.real / other, self.dual / other)\n",
    "    \n",
    "    def __repr__(self):\n",
    "        return '({} + {}ε)'.format(self.real, self.dual)\n",
    "        "
   ]
  },
  {
   "cell_type": "markdown",
   "metadata": {},
   "source": [
    "## Taylor Series\n",
    "\n",
    "Any value f(a + h) of a smooth function f\n",
    "can be expressed as an infinite sum:\n",
    "\n",
    "f(a+h)=f(a) + f'+h/1! + f''+h<sup>2</sup>/2! + ...\n",
    "\n",
    "where f’, f’’, ..., f (n) are the first, second, ...,\n",
    "n-th derivative of f.\n",
    "\n",
    "## Taylor Series and Dual Numbers\n",
    "For f(a + bε), the Taylor series is:\n",
    "\n",
    "f(a + bε) = f(a) + f'+bε/1! + ... 0\n",
    "\n",
    "* All second- and higher-order terms vanish!\n",
    "* We have a closed-form expression that holds the function and its derivative.\n",
    "\n",
    "## Real Functions on Dual Numbers\n",
    "Any differentiable real function f can be\n",
    "extended to dual numbers, as:\n",
    "\n",
    "* f(a + b ε) = f(a) + b f’(a) ε\n",
    "* For example,\n",
    "    sin(a + b ε) = sin(a) + b cos(a) ε\n",
    "    \n",
    "## Automatic Differentiation\n",
    "\n",
    "* Add a unit dual part to the input value of\n",
    "    a real function.\n",
    "* Evaluate function using dual arithmetic.\n",
    "* The output has the function value as real\n",
    "    part and the derivate’s value as dual part:\n",
    "\n",
    "f(a + ε) = f(a) + f’(a) ε"
   ]
  },
  {
   "cell_type": "code",
   "execution_count": 16,
   "metadata": {},
   "outputs": [
    {
     "name": "stdout",
     "output_type": "stream",
     "text": [
      "As numbers, no derivate\n",
      "(2 + 0ε)\n",
      "(7 + 0ε)\n",
      "(12 + 0ε)\n",
      "As dualnumber, with derivate (expecting constant derivate for a line)\n",
      "(2 + 5ε)\n",
      "(7 + 5ε)\n",
      "(12 + 5ε)\n"
     ]
    }
   ],
   "source": [
    "#let's try a few function to check their derivate\n",
    "\n",
    "def function(x):\n",
    "    #line function ax+b\n",
    "    return DualNumber(5) * x + DualNumber(2)\n",
    "\n",
    "#f'(x) = 5\n",
    "\n",
    "print (\"As numbers, no derivate\")\n",
    "print ( function(0) )\n",
    "print ( function(1) )\n",
    "print ( function(2) )\n",
    "\n",
    "print (\"As dualnumber, with derivate (expecting constant derivate for a line)\")\n",
    "print ( function(DualNumber(0,1)) )\n",
    "print ( function(DualNumber(1,1)) )\n",
    "print ( function(DualNumber(2,1)) )"
   ]
  },
  {
   "cell_type": "code",
   "execution_count": 17,
   "metadata": {},
   "outputs": [
    {
     "name": "stdout",
     "output_type": "stream",
     "text": [
      "(1 + 2ε)\n",
      "(8 + 12ε)\n",
      "(25 + 22ε)\n"
     ]
    }
   ],
   "source": [
    "#let's try a few function to check their derivate\n",
    "\n",
    "def function(x):\n",
    "    return DualNumber(5) * x * x + DualNumber(2) * x + DualNumber(1)\n",
    "\n",
    "#f'(x) = 2*5x + 2\n",
    "\n",
    "print ( function(DualNumber(0,1)) )\n",
    "print ( function(DualNumber(1,1)) )\n",
    "print ( function(DualNumber(2,1)) )"
   ]
  },
  {
   "cell_type": "code",
   "execution_count": 21,
   "metadata": {},
   "outputs": [
    {
     "name": "stdout",
     "output_type": "stream",
     "text": [
      "(1 + 0ε)\n",
      "(2 + -2ε)\n",
      "(5 + 20ε)\n"
     ]
    }
   ],
   "source": [
    "#let's try a few function to check their derivate\n",
    "\n",
    "def function(x):\n",
    "    a = DualNumber(2) * x * x - DualNumber(3) * x\n",
    "    return a*a + DualNumber(1)\n",
    "\n",
    "#f(x) = (2x^2 - 3x)(2x^2 - 3x) + 1\n",
    "#f(x) = 4x^4 - 12x^3 + 9x^2 + 1\n",
    "#f'(x) = 16x^3 - 36x^2 + 18x\n",
    "\n",
    "\n",
    "\n",
    "print ( function(DualNumber(0,1)) )\n",
    "print ( function(DualNumber(1,1)) )\n",
    "print ( function(DualNumber(2,1)) )"
   ]
  },
  {
   "cell_type": "markdown",
   "metadata": {},
   "source": [
    "## dual number functions\n",
    "\n",
    "using the \n",
    "f(a + b ε) = f(a) + b f’(a) ε\n",
    "\n",
    "let's populate all the method for dual numbers\n"
   ]
  },
  {
   "cell_type": "code",
   "execution_count": 26,
   "metadata": {},
   "outputs": [],
   "source": [
    "import math\n",
    "\n",
    "def dConj(a):\n",
    "    return DualNumber(a.real, -a.dual)\n",
    "\n",
    "def dAcos(a):\n",
    "    return DualNumber(math.acos(a.real), -a.dual() / math.sqrt(1.0 - a.real*a.real))\n",
    "\n",
    "def dAsin(a):\n",
    "    return DualNumber(math.asin(a.real), a.dual() / math.sqrt(1.0 - a.real*a.real))\n",
    "\n",
    "def dAtan(a):\n",
    "    return DualNumber(math.atan(a.real), a.dual() / (1.0 + a.real*a.real))\n",
    "\n",
    "def dAtan2(x, y):\n",
    "    z = y/x\n",
    "    quandrant = 0.0\n",
    "    if x.real < 0:\n",
    "        if y.real < 0 :\n",
    "            quadrant = -3.141695\n",
    "        else:\n",
    "            quadrant = 3.141695\n",
    "    return DualNumber(math.atan(z.real) + quandrant, z.dual() / (1.0 + z.real*z.real))\n",
    "\n",
    "def dCos(a):\n",
    "    return DualNumber(math.cos(a.real), -a.dual * math.sin(a.real))\n",
    "\n",
    "def dCosh(a):\n",
    "    return DualNumber(math.cosh(a.real), a.dual * math.sinh(a.real))\n",
    "\n",
    "def dExp(a):\n",
    "    x = math.exp(a.real)\n",
    "    return DualNumber(x, a.dual * x)\n",
    "\n",
    "def dLog(a):\n",
    "    return DualNumber(math.log(a.real), a.dual/a.real )\n",
    "\n",
    "def dLog10(a):\n",
    "    return dLog(x) / math.log(10)\n",
    "\n",
    "def dPow(a, b):\n",
    "    return dExp(dLog(a) * b)\n",
    "\n",
    "def dSin(a):\n",
    "    return DualNumber(math.sin(a.real), a.dual * math.cos(a.real))\n",
    "\n",
    "def dSinh(a):\n",
    "    return DualNumber(math.sinh(a.real), a.dual * math.cosh(a.real))\n",
    "\n",
    "def dSqrt(a):\n",
    "    x = math.sqrt(a.real)\n",
    "    return DualNumber(x, a.dual / (2.0*x))\n",
    "\n",
    "def dTan(a):\n",
    "    x = math.tan(a.real)\n",
    "    return DualNumber(x, a.dual * (1.0 + x*x))\n",
    "\n",
    "def dTahnh(a):\n",
    "    x = math.thanh(a.real)\n",
    "    return DualNumber(x, a.dual * (1.0 - x*x))"
   ]
  },
  {
   "cell_type": "markdown",
   "metadata": {},
   "source": [
    "### plot some graphs\n",
    "\n",
    "Let's try a complex function to check the derivative functions\n"
   ]
  },
  {
   "cell_type": "code",
   "execution_count": 58,
   "metadata": {},
   "outputs": [
    {
     "data": {
      "image/png": "[encoded data removed]",
      "text/plain": [
       "<Figure size 700x350 with 1 Axes>"
      ]
     },
     "metadata": {
      "needs_background": "light"
     },
     "output_type": "display_data"
    },
    {
     "data": {
      "image/png": "[encoded data removed]",
      "text/plain": [
       "<Figure size 700x350 with 1 Axes>"
      ]
     },
     "metadata": {
      "needs_background": "light"
     },
     "output_type": "display_data"
    }
   ],
   "source": [
    "import matplotlib.pyplot as plt\n",
    "\n",
    "def functionOne(x):\n",
    "    return DualNumber(2) *x*x * dCos(x) - dSqrt(x + DualNumber(3)) * DualNumber(200)\n",
    "\n",
    "def functionTwo(x):\n",
    "    return dPow( DualNumber(2) + x, DualNumber(3) )\n",
    "\n",
    "def graphFunctionAndDerivate(func, derivateCount=9):\n",
    "\n",
    "    xs = [x*0.1 for x in range(0,200)]\n",
    "    ys = [func(DualNumber(x)).real for x in xs]\n",
    "\n",
    "    plt.figure(figsize=(10, 5), dpi=70)\n",
    "    plt.plot(xs, ys, color='#9ac1bc')\n",
    "\n",
    "    for t in range(derivateCount):\n",
    "        x = xs[(t * 200)//derivateCount]\n",
    "        y = ys[(t * 200)//derivateCount]\n",
    "        slope = function(DualNumber(x,1)).dual\n",
    "\n",
    "        plt.plot([x-0.4, x+0.4], [y-slope*0.4, y+slope*0.4], color='#ee5522')\n",
    "        plt.plot([x], [y], 'o', color='#ee5522')\n",
    "\n",
    "    plt.show()\n",
    "    \n",
    "\n",
    "    \n",
    "graphFunctionAndDerivate(functionOne)\n",
    "graphFunctionAndDerivate(functionTwo)"
   ]
  }
 ],
 "metadata": {
  "kernelspec": {
   "display_name": "Python 3",
   "language": "python",
   "name": "python3"
  },
  "language_info": {
   "codemirror_mode": {
    "name": "ipython",
    "version": 3
   },
   "file_extension": ".py",
   "mimetype": "text/x-python",
   "name": "python",
   "nbconvert_exporter": "python",
   "pygments_lexer": "ipython3",
   "version": "3.7.1"
  }
 },
 "nbformat": 4,
 "nbformat_minor": 2
}
