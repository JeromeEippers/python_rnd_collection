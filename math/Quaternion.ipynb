{
 "cells": [
  {
   "cell_type": "code",
   "execution_count": null,
   "metadata": {},
   "outputs": [],
   "source": [
    "def vNormalize(a, tolerance=0.00001):\n",
    "    mag2 = sum(n * n for n in a)\n",
    "    if abs(mag2 - 1.0) > tolerance:\n",
    "        mag = sqrt(mag2)\n",
    "        return [n / mag for n in a]\n",
    "    return [n for n in a]\n",
    "\n",
    "def qMult(q1, q2):\n",
    "    w1, x1, y1, z1 = q1\n",
    "    w2, x2, y2, z2 = q2\n",
    "    w = w1 * w2 - x1 * x2 - y1 * y2 - z1 * z2\n",
    "    x = w1 * x2 + x1 * w2 + y1 * z2 - z1 * y2\n",
    "    y = w1 * y2 + y1 * w2 + z1 * x2 - x1 * z2\n",
    "    z = w1 * z2 + z1 * w2 + x1 * y2 - y1 * x2\n",
    "    return [w, x, y, z]\n",
    "\n",
    "def qConjugate(q):\n",
    "    w, x, y, z = q\n",
    "    return [w, -x, -y, -z]\n",
    "\n",
    "def qMultVector(q1, v1):\n",
    "    q2 = [0.0] + v1\n",
    "    return qMult(qMult(q1, q2), qConjugate(q1))[1:]\n",
    "\n",
    "def axisangle_to_q(v, theta):\n",
    "    v = vNormalize(v)\n",
    "    x, y, z = v\n",
    "    theta /= 2\n",
    "    w = cos(theta)\n",
    "    x = x * sin(theta)\n",
    "    y = y * sin(theta)\n",
    "    z = z * sin(theta)\n",
    "    return [w, x, y, z]\n",
    "\n",
    "def q_to_axisangle(q):\n",
    "    w, v = q[0], q[1:]\n",
    "    theta = acos(w) * 2.0\n",
    "    return vNormalize(v), theta"
   ]
  }
 ],
 "metadata": {
  "kernelspec": {
   "display_name": "Python 3",
   "language": "python",
   "name": "python3"
  },
  "language_info": {
   "codemirror_mode": {
    "name": "ipython",
    "version": 3
   },
   "file_extension": ".py",
   "mimetype": "text/x-python",
   "name": "python",
   "nbconvert_exporter": "python",
   "pygments_lexer": "ipython3",
   "version": "3.7.3"
  }
 },
 "nbformat": 4,
 "nbformat_minor": 2
}
