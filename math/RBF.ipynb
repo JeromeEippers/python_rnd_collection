{
 "cells": [
  {
   "cell_type": "markdown",
   "metadata": {},
   "source": [
    "<h1> RBF Solver </h1>\n",
    "<br>\n",
    "Using only pure python code and no numpy"
   ]
  },
  {
   "cell_type": "markdown",
   "metadata": {},
   "source": [
    "<h3> import of matrix code </h3>"
   ]
  },
  {
   "cell_type": "code",
   "execution_count": 12,
   "metadata": {},
   "outputs": [],
   "source": [
    "def formatMatrix(M):\n",
    "    return '[' + '\\n '.join([' '.join(['{:7.3f}'.format(c) for c in row]) for row in M]) + ' ]'\n",
    "    \n",
    "\n",
    "def zeros (rows, cols):\n",
    "    return [[0]*cols for i in range(rows)];\n",
    "\n",
    "\n",
    "def identity (rows):\n",
    "    M = zeros(rows, rows)\n",
    "    for r in range(rows):\n",
    "        M[r][r] = 1.0\n",
    "    return M\n",
    "\n",
    "\n",
    "def copyMatrix (M):\n",
    "    return [[v for v in col] for col in M]\n",
    "\n",
    "\n",
    "def transpose(A):\n",
    "    rowsA = len(A)\n",
    "    colsA = len(A[0])\n",
    "    \n",
    "    return [[A[i][j] for i in range(rowsA)] for j in range(colsA)]\n",
    "\n",
    "def scale(A, scale):\n",
    "    return [[v*scale for v in col] for col in A]\n",
    "\n",
    "def dot(A, B):\n",
    "    rowsA = len(A)\n",
    "    colsA = len(A[0])\n",
    "    rowsB = len(B)\n",
    "    colsB = len(B[0])\n",
    "    \n",
    "    if colsA != rowsB:\n",
    "        raise Exception('Number of A columns must equal number of B rows.')\n",
    "    \n",
    "    C = zeros(rowsA, colsB)\n",
    "    \n",
    "    for i in range(rowsA):\n",
    "        for j in range(colsB):\n",
    "            C[i][j] = sum([A[i][k] * B[k][j] for k in range(colsA)])\n",
    "            \n",
    "    return C\n",
    "\n",
    "\n",
    "def inverse(A):\n",
    "    rowsA = len(A)\n",
    "    colsA = len(A[0])\n",
    "    \n",
    "    if rowsA != colsA:\n",
    "        raise Exception('Matrix must be square')\n",
    "    \n",
    "    AM = copyMatrix(A)\n",
    "    IM = identity(rowsA)\n",
    "    \n",
    "    for fd in range(rowsA):\n",
    "        fdScaler = 1.0 / AM[fd][fd]\n",
    "        for j in range(rowsA):\n",
    "            AM[fd][j] *= fdScaler\n",
    "            IM[fd][j] *= fdScaler\n",
    "        for i in list(range(rowsA))[0:fd] + list(range(rowsA))[fd+1:]:\n",
    "            crScaler = AM[i][fd]\n",
    "            for j in range(rowsA):\n",
    "                AM[i][j] = AM[i][j] - crScaler * AM[fd][j]\n",
    "                IM[i][j] = IM[i][j] - crScaler * IM[fd][j]\n",
    "    return IM\n",
    "\n",
    "def solve(A, b):\n",
    "    Inv = inverse(A)\n",
    "    return dot(Inv, b)"
   ]
  },
  {
   "cell_type": "markdown",
   "metadata": {},
   "source": [
    "<h3> Import vector math </h3>"
   ]
  },
  {
   "cell_type": "code",
   "execution_count": 13,
   "metadata": {},
   "outputs": [],
   "source": [
    "import math\n",
    "\n",
    "def vAdd(a,b):\n",
    "    return [ia + ib for ia,ib in zip(a,b)]\n",
    "\n",
    "def vSub(a,b):\n",
    "    return [ia + ib for ia,ib in zip(a,b)]\n",
    "\n",
    "def vScale(a, scale):\n",
    "    return [ia * scale for ia in a]\n",
    "\n",
    "def vDot(a,b):\n",
    "    return sum([ia * ib for ia,ib in zip(a,b)])\n",
    "\n",
    "def vLength(a):\n",
    "    return math.sqrt(vDot(a,a))\n",
    "\n",
    "def vNormalize(a):\n",
    "    return vScale(a, 1.0/vLength(a))"
   ]
  },
  {
   "cell_type": "markdown",
   "metadata": {},
   "source": [
    "# RBF Solver\n",
    "Based on the excellent explications from  http://shihchinw.github.io/2018/10/data-interpolation-with-radial-basis-functions-rbfs.html\n"
   ]
  },
  {
   "cell_type": "markdown",
   "metadata": {},
   "source": [
    "kernel functions :\n"
   ]
  },
  {
   "cell_type": "code",
   "execution_count": 14,
   "metadata": {},
   "outputs": [],
   "source": [
    "def gaussian(x, sigma=0.1):\n",
    "    return math.exp(-x * x / math.pow(sigma, 2.0))\n",
    "\n",
    "def thinplate(r):\n",
    "    return r * r * math.log(max(1e-8, r))\n",
    "\n",
    "def triharmonic(r):\n",
    "    return r * r * r\n",
    "\n",
    "def filmc_curve(x):\n",
    "    \"\"\"The fitted ACES tone mapping curve by Krzysztof Narkowicz.\n",
    "    https://knarkowicz.wordpress.com/2016/01/06/aces-filmic-tone-mapping-curve/\n",
    "    \"\"\"\n",
    "    return (x * (2.51 * x + 0.03)) / (x * (2.43 * x + 0.59) + 0.14)"
   ]
  },
  {
   "cell_type": "markdown",
   "metadata": {},
   "source": [
    "distance functions :"
   ]
  },
  {
   "cell_type": "code",
   "execution_count": 15,
   "metadata": {},
   "outputs": [],
   "source": [
    "def normDist(va, vb):\n",
    "    return vLength(vSub(va,vb))"
   ]
  },
  {
   "cell_type": "code",
   "execution_count": 16,
   "metadata": {},
   "outputs": [],
   "source": [
    "class RBF (object):\n",
    "    \n",
    "    def __init__(self, centers, values, distfunc, kernelfunc ):\n",
    "        \"\"\" \n",
    "        centers {matrix} : the list of coordinates\n",
    "        values {matrix} : the list of values for each center\n",
    "        distfunc {function} : the method used to compute the distance between centers\n",
    "        kernelfunc {function} : the method used to compute the kernel value\n",
    "        \"\"\"\n",
    "        count = len(centers)\n",
    "        Phi = zeros(count, count)\n",
    "        for i in range(count):\n",
    "            for j in range(i, count):\n",
    "                dist = distfunc(centers[i], centers[j])\n",
    "                Phi[i][j] = Phi[j][i] = kernelfunc(dist)\n",
    "                \n",
    "        A = Phi\n",
    "        b = values\n",
    "                \n",
    "        self.centers = centers\n",
    "        self.values = values\n",
    "        self.dist = distfunc\n",
    "        self.kernel = kernelfunc\n",
    "        self.coeffs = solve(A, b)\n",
    "        \n",
    "    def evaluate(self, centers):\n",
    "        Phi = \n",
    "\n",
    "\n"
   ]
  },
  {
   "cell_type": "markdown",
   "metadata": {},
   "source": [
    "### tests values"
   ]
  },
  {
   "cell_type": "code",
   "execution_count": 33,
   "metadata": {},
   "outputs": [
    {
     "name": "stdout",
     "output_type": "stream",
     "text": [
      "[[0.05], [0.2], [0.5], [0.6], [0.9], [0.94]]\n",
      "[[0.7025], [0.59], [0.5], [0.51], [0.66], [0.6936]]\n"
     ]
    }
   ],
   "source": [
    "import matplotlib.pyplot as plt\n",
    "\n",
    "#1D values\n",
    "def _generate_1D (xvalues, func):\n",
    "    return [[x] for x in xvalues], [[func(x)] for x in xvalues]\n",
    "\n",
    "d1_x, d1_y = _generate_1D ([0.05, 0.2, 0.5, 0.6, 0.9, 0.94], lambda x: (x - 0.5) ** 2 + 0.5)\n",
    "\n",
    "print (d1_x)\n",
    "print (d1_y)"
   ]
  },
  {
   "cell_type": "code",
   "execution_count": 37,
   "metadata": {},
   "outputs": [
    {
     "name": "stdout",
     "output_type": "stream",
     "text": [
      "[[0.05], [0.2], [0.5], [0.6], [0.9], [0.94]]\n",
      "[[0.7025], [0.59], [0.5], [0.51], [0.66], [0.6936]]\n"
     ]
    },
    {
     "data": {
      "image/png": "[encoded data removed]",
      "text/plain": [
       "<Figure size 210x210 with 1 Axes>"
      ]
     },
     "metadata": {
      "needs_background": "light"
     },
     "output_type": "display_data"
    }
   ],
   "source": [
    "gauss = RBF(d1_x, d1_y, normDist, lambda x:gaussian(x, 1.0))\n",
    "print (gauss.centers)\n",
    "print (gauss.values)\n",
    "\n",
    "plt.figure(figsize=(3, 3), dpi=70)\n",
    "plt.plot([v[0] for v in d1_x], [v[0] for v in d1_y], 'o', color='#539798')\n",
    "plt.ylim(0.0, 1.0)\n",
    "plt.show()\n"
   ]
  },
  {
   "cell_type": "code",
   "execution_count": null,
   "metadata": {},
   "outputs": [],
   "source": []
  }
 ],
 "metadata": {
  "kernelspec": {
   "display_name": "Python 3",
   "language": "python",
   "name": "python3"
  },
  "language_info": {
   "codemirror_mode": {
    "name": "ipython",
    "version": 3
   },
   "file_extension": ".py",
   "mimetype": "text/x-python",
   "name": "python",
   "nbconvert_exporter": "python",
   "pygments_lexer": "ipython3",
   "version": "3.7.1"
  }
 },
 "nbformat": 4,
 "nbformat_minor": 2
}
