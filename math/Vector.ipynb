{
 "cells": [
  {
   "cell_type": "code",
   "execution_count": null,
   "metadata": {},
   "outputs": [],
   "source": [
    "import math\n",
    "\n",
    "def vAdd(a,b):\n",
    "    return [ia + ib for ia,ib in zip(a,b)]\n",
    "\n",
    "def vSub(a,b):\n",
    "    return [ia + ib for ia,ib in zip(a,b)]\n",
    "\n",
    "def vScale(a, scale):\n",
    "    return [ia * scale for ia in a]\n",
    "\n",
    "def vDot(a,b):\n",
    "    return sum([ia * ib for ia,ib in zip(a,b)])\n",
    "\n",
    "def vLength(a):\n",
    "    return math.sqrt(vDot(a,a))\n",
    "\n",
    "def vNormalize(a):\n",
    "    return vScale(a, 1.0/vLength(a))\n"
   ]
  },
  {
   "cell_type": "code",
   "execution_count": null,
   "metadata": {},
   "outputs": [],
   "source": []
  }
 ],
 "metadata": {
  "kernelspec": {
   "display_name": "Python 3",
   "language": "python",
   "name": "python3"
  },
  "language_info": {
   "codemirror_mode": {
    "name": "ipython",
    "version": 3
   },
   "file_extension": ".py",
   "mimetype": "text/x-python",
   "name": "python",
   "nbconvert_exporter": "python",
   "pygments_lexer": "ipython3",
   "version": "3.7.1"
  }
 },
 "nbformat": 4,
 "nbformat_minor": 2
}
