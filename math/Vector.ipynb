{
 "cells": [
  {
   "cell_type": "code",
   "execution_count": null,
   "metadata": {},
   "outputs": [],
   "source": [
    "import math\n",
    "\n",
    "def vAdd(a,b):\n",
    "    return [ia + ib for ia,ib in zip(a,b)]\n",
    "\n",
    "def vSub(a,b):\n",
    "    return [ia - ib for ia,ib in zip(a,b)]\n",
    "\n",
    "def vScale(a, scale):\n",
    "    return [ia * scale for ia in a]\n",
    "\n",
    "def vDot(a,b):\n",
    "    return sum([ia * ib for ia,ib in zip(a,b)])\n",
    "\n",
    "def vLength(a):\n",
    "    return math.sqrt(vDot(a,a))\n",
    "\n",
    "def vNormalize(a, tolerance=0.00001):\n",
    "    mag2 = sum(n * n for n in a)\n",
    "    if abs(mag2 - 1.0) > tolerance:\n",
    "        mag = sqrt(mag2)\n",
    "        return [n / mag for n in a]\n",
    "    return [n for n in a]\n"
   ]
  },
  {
   "cell_type": "code",
   "execution_count": null,
   "metadata": {},
   "outputs": [],
   "source": []
  }
 ],
 "metadata": {
  "kernelspec": {
   "display_name": "Python 3",
   "language": "python",
   "name": "python3"
  },
  "language_info": {
   "codemirror_mode": {
    "name": "ipython",
    "version": 3
   },
   "file_extension": ".py",
   "mimetype": "text/x-python",
   "name": "python",
   "nbconvert_exporter": "python",
   "pygments_lexer": "ipython3",
   "version": "3.7.3"
  }
 },
 "nbformat": 4,
 "nbformat_minor": 2
}
