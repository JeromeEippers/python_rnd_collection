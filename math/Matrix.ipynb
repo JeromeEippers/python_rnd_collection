{
 "cells": [
  {
   "cell_type": "markdown",
   "metadata": {},
   "source": [
    "<h1>Matrix functions</h1>\n",
    "A set of function for matrices without numpy."
   ]
  },
  {
   "cell_type": "code",
   "execution_count": 12,
   "metadata": {},
   "outputs": [
    {
     "name": "stdout",
     "output_type": "stream",
     "text": [
      "[  1.000   0.000   0.000\n",
      "   0.000   1.000   0.000\n",
      "   0.000   0.000   1.000 ]\n"
     ]
    }
   ],
   "source": [
    "import math\n",
    "\n",
    "def formatMatrix(M):\n",
    "    return '[' + '\\n '.join([' '.join(['{:7.3f}'.format(c) for c in row]) for row in M]) + ' ]'\n",
    "    \n",
    "\n",
    "def zeros (rows, cols):\n",
    "    return [[0]*cols for i in range(rows)];\n",
    "\n",
    "\n",
    "def identity (rows):\n",
    "    M = zeros(rows, rows)\n",
    "    for r in range(rows):\n",
    "        M[r][r] = 1.0\n",
    "    return M\n",
    "\n",
    "def copyMatrix (M):\n",
    "    return [[v for v in col] for col in M]\n",
    "\n",
    "print ( formatMatrix( identity(3) ))"
   ]
  },
  {
   "cell_type": "markdown",
   "metadata": {},
   "source": [
    "<h2>Matrix transpose</h2>"
   ]
  },
  {
   "cell_type": "code",
   "execution_count": 2,
   "metadata": {},
   "outputs": [
    {
     "name": "stdout",
     "output_type": "stream",
     "text": [
      "[  1.000   4.000\n",
      "   2.000   5.000\n",
      "   3.000   6.000 ]\n"
     ]
    }
   ],
   "source": [
    "def transpose(A):\n",
    "    rowsA = len(A)\n",
    "    colsA = len(A[0])\n",
    "    \n",
    "    return [[A[i][j] for i in range(rowsA)] for j in range(colsA)]\n",
    "\n",
    "print (formatMatrix(transpose([[1,2,3],[4,5,6]])))"
   ]
  },
  {
   "cell_type": "markdown",
   "metadata": {},
   "source": [
    "<h2>Matrix multiplication</h2>"
   ]
  },
  {
   "cell_type": "code",
   "execution_count": 3,
   "metadata": {},
   "outputs": [
    {
     "name": "stdout",
     "output_type": "stream",
     "text": [
      "[  3.000   5.000\n",
      "   9.000  11.000 ]\n",
      "[  2.000   4.000   6.000\n",
      "   8.000  10.000  12.000 ]\n"
     ]
    }
   ],
   "source": [
    "def scale(A, scale):\n",
    "    return [[v*scale for v in col] for col in A]\n",
    "\n",
    "def dot(A, B):\n",
    "    rowsA = len(A)\n",
    "    colsA = len(A[0])\n",
    "    rowsB = len(B)\n",
    "    colsB = len(B[0])\n",
    "    \n",
    "    if colsA != rowsB:\n",
    "        raise Exception('Number of A columns must equal number of B rows.')\n",
    "    \n",
    "    C = zeros(rowsA, colsB)\n",
    "    \n",
    "    for i in range(rowsA):\n",
    "        for j in range(colsB):\n",
    "            C[i][j] = sum([A[i][k] * B[k][j] for k in range(colsA)])\n",
    "            \n",
    "    return C\n",
    "\n",
    "\n",
    "\n",
    "A = [[1,2,3],[4,5,6]]\n",
    "B = [[1,0],[1,1],[0,1]]\n",
    "C = dot(A,B)\n",
    "print ( formatMatrix( C ))\n",
    "print ( formatMatrix( scale(A, 2.0) ))"
   ]
  },
  {
   "cell_type": "markdown",
   "metadata": {},
   "source": [
    "<h2>Inverse a square matrix.</h2>"
   ]
  },
  {
   "cell_type": "code",
   "execution_count": 4,
   "metadata": {},
   "outputs": [
    {
     "name": "stdout",
     "output_type": "stream",
     "text": [
      "A ::\n",
      "[  5.000   4.000   3.000   2.000   1.000\n",
      "   4.000   3.000   2.000   1.000   5.000\n",
      "   3.000   2.000   9.000   5.000   4.000\n",
      "   2.000   1.000   5.000   4.000   3.000\n",
      "   1.000   2.000   3.000   4.000   5.000 ]\n",
      "Inverse ::\n",
      "[  0.022   0.200  -0.333   0.733  -0.378\n",
      "   0.244  -0.200   0.333  -0.933   0.444\n",
      "  -0.056  -0.000   0.333  -0.333  -0.056\n",
      "   0.122  -0.200  -0.333   0.533   0.122\n",
      "  -0.167   0.200   0.000  -0.000   0.033 ]\n",
      "A * inverse :: \n",
      "[  1.000   0.000  -0.000  -0.000  -0.000\n",
      "   0.000   1.000   0.000  -0.000   0.000\n",
      "   0.000   0.000   1.000  -0.000  -0.000\n",
      "   0.000   0.000   0.000   1.000  -0.000\n",
      "   0.000   0.000  -0.000  -0.000   1.000 ]\n"
     ]
    }
   ],
   "source": [
    "def inverse(A):\n",
    "    rowsA = len(A)\n",
    "    colsA = len(A[0])\n",
    "    \n",
    "    if rowsA != colsA:\n",
    "        raise Exception('Matrix must be square')\n",
    "    \n",
    "    AM = copyMatrix(A)\n",
    "    IM = identity(rowsA)\n",
    "    \n",
    "    for fd in range(rowsA):\n",
    "        fdScaler = 1.0 / AM[fd][fd]\n",
    "        for j in range(rowsA):\n",
    "            AM[fd][j] *= fdScaler\n",
    "            IM[fd][j] *= fdScaler\n",
    "        for i in list(range(rowsA))[0:fd] + list(range(rowsA))[fd+1:]:\n",
    "            crScaler = AM[i][fd]\n",
    "            for j in range(rowsA):\n",
    "                AM[i][j] = AM[i][j] - crScaler * AM[fd][j]\n",
    "                IM[i][j] = IM[i][j] - crScaler * IM[fd][j]\n",
    "    return IM\n",
    "    \n",
    "    \n",
    "A = [[5,4,3,2,1],[4,3,2,1,5],[3,2,9,5,4],[2,1,5,4,3],[1,2,3,4,5]]\n",
    "AI = inverse(A)\n",
    "\n",
    "print ('A ::')\n",
    "print ( formatMatrix( A ))\n",
    "print ('Inverse ::')\n",
    "print ( formatMatrix( AI ))\n",
    "print ('A * inverse :: ')\n",
    "print ( formatMatrix(dot( A, AI )))"
   ]
  },
  {
   "cell_type": "markdown",
   "metadata": {},
   "source": [
    "<h2>Solve the Ax=b linear equations system.</h2> <br>\n",
    "By taking the inverse of A and multiplying b."
   ]
  },
  {
   "cell_type": "code",
   "execution_count": 5,
   "metadata": {},
   "outputs": [
    {
     "name": "stdout",
     "output_type": "stream",
     "text": [
      "[  0.500\n",
      "  -5.000 ]\n",
      "[  0.045\n",
      "  -0.727 ]\n",
      "[  0.500   0.045\n",
      "  -5.000  -0.727 ]\n"
     ]
    }
   ],
   "source": [
    "def solve(A, b):\n",
    "    Inv = inverse(A)\n",
    "    return dot(Inv, b)\n",
    "\n",
    "\n",
    "# 4x + 3y = -13\n",
    "# -10x -2y = 5\n",
    "\n",
    "A = [[4, 3], [-10, -2]]\n",
    "b = [[-13], [5]]\n",
    "\n",
    "x = solve(A, b)\n",
    "print ( formatMatrix(x) )\n",
    "\n",
    "A = [[4, 3], [-10, -2]]\n",
    "b = [[-2], [1]]\n",
    "\n",
    "x = solve(A, b)\n",
    "print ( formatMatrix(x) )\n",
    "\n",
    "A = [[4, 3], [-10, -2]]\n",
    "b = [[-13,-2], [5,1]]\n",
    "\n",
    "x = solve(A, b)\n",
    "print ( formatMatrix(x) )"
   ]
  },
  {
   "cell_type": "markdown",
   "metadata": {},
   "source": [
    "# Orthogonalization.\n"
   ]
  },
  {
   "cell_type": "code",
   "execution_count": 27,
   "metadata": {},
   "outputs": [
    {
     "name": "stdout",
     "output_type": "stream",
     "text": [
      "[  1.000   0.000   0.000\n",
      "   0.000   1.000   0.000\n",
      "   0.000   0.000   1.000 ]\n",
      "[  1.000   0.000   0.000\n",
      "   0.000   1.000   0.000\n",
      "   0.000   0.000   1.000 ]\n",
      "[  0.995   0.100   0.000\n",
      "  -0.100   0.995   0.000\n",
      "   0.000   0.000   1.000 ]\n"
     ]
    }
   ],
   "source": [
    "def orthogonize (A):\n",
    "    \n",
    "    def _dot(a,b):\n",
    "        return sum([ia * ib for ia,ib in zip(a,b)])\n",
    "    \n",
    "    def _proj(a,b):\n",
    "        coef = _dot(b,a) / _dot(a,a)\n",
    "        return [ia * coef for ia in a]\n",
    "    \n",
    "    rowsA = len(A)\n",
    "    colsA = len(A[0])\n",
    "    B = []\n",
    "    for i in range(rowsA):\n",
    "        temp_vec = A[i]\n",
    "        for inB in B :\n",
    "            proj_vec = _proj(inB, A[i])\n",
    "            temp_vec = [x-y for x,y in zip(temp_vec, proj_vec)]\n",
    "        coef = 1.0/math.sqrt(_dot(temp_vec,temp_vec))\n",
    "        temp_vec = [it*coef for it in temp_vec]\n",
    "        B.append(temp_vec)\n",
    "    return B\n",
    "\n",
    "\n",
    "#tests\n",
    "A = [\n",
    "    [1,0,0],\n",
    "    [0,1,0],\n",
    "    [0,0,1]\n",
    "]\n",
    "print ( formatMatrix(orthogonize(A)))\n",
    "\n",
    "A = [\n",
    "    [1.1,0,0],\n",
    "    [0,1.2,0],\n",
    "    [0,0,1.1]\n",
    "]\n",
    "print ( formatMatrix(orthogonize(A)))\n",
    "\n",
    "A = [\n",
    "    [1,0.1,0],\n",
    "    [0,1,0],\n",
    "    [0,0,1]\n",
    "]\n",
    "print ( formatMatrix(orthogonize(A)))\n"
   ]
  }
 ],
 "metadata": {
  "kernelspec": {
   "display_name": "Python 3",
   "language": "python",
   "name": "python3"
  },
  "language_info": {
   "codemirror_mode": {
    "name": "ipython",
    "version": 3
   },
   "file_extension": ".py",
   "mimetype": "text/x-python",
   "name": "python",
   "nbconvert_exporter": "python",
   "pygments_lexer": "ipython3",
   "version": "3.7.3"
  }
 },
 "nbformat": 4,
 "nbformat_minor": 2
}
