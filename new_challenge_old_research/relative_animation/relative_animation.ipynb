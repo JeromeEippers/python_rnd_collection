{
 "cells": [
  {
   "cell_type": "code",
   "execution_count": 35,
   "metadata": {},
   "outputs": [],
   "source": [
    "%matplotlib inline\n",
    "%run ../skeleton.py\n",
    "%run ../animation.py"
   ]
  },
  {
   "cell_type": "code",
   "execution_count": 36,
   "metadata": {},
   "outputs": [],
   "source": [
    "skeleton = load_skeleton(r'../skeleton.dat')\n",
    "animations = [load_animation(r\"../motion_graph/anim_{}.dat\".format(i)) for i in range(28)]"
   ]
  },
  {
   "cell_type": "code",
   "execution_count": 21,
   "metadata": {},
   "outputs": [
    {
     "data": {
      "application/vnd.jupyter.widget-view+json": {
       "model_id": "8039383233c240548abef272e5af3927",
       "version_major": 2,
       "version_minor": 0
      },
      "text/plain": [
       "Output()"
      ]
     },
     "metadata": {},
     "output_type": "display_data"
    }
   ],
   "source": [
    "import k3d\n",
    "\n",
    "def plot_skeleton(plot, skeleton, color=0x2233FF):\n",
    "    for i in range(len(skeleton._bones)):\n",
    "        if skeleton._bones[i]._parentId >= 0:\n",
    "            startM = skeleton.globalMatrix(i)\n",
    "            endM = skeleton.globalMatrix(skeleton._bones[i]._parentId)\n",
    "            p = k3d.line([startM[3][:3], endM[3][:3]], width=0.05, color=color)\n",
    "            plot += p\n",
    "\n",
    "def plot_animation(plot, skeleton, animation):\n",
    "    #plot skeleton at 2 frames\n",
    "    keycount, tracks = animation\n",
    "    skeleton.load_animation(animation, int(keycount/2) )\n",
    "    plot_skeleton(plot, skeleton)\n",
    "\n",
    "    \n",
    "    #plot trajectories\n",
    "    boneIds = [skeleton.bone_id(n) for n in ['Hips','LeftHand','RightHand','LeftFoot','RightFoot']]\n",
    "    lines = [[] for i in range(len(boneIds))]\n",
    "    for frame in range(keycount):\n",
    "        skeleton.load_animation(animation, frame )\n",
    "        for i,boneId in enumerate(boneIds):\n",
    "            lines[i].append(skeleton.globalMatrix(boneId)[3][:3])\n",
    "            \n",
    "    for i in range(len(boneIds)):\n",
    "        p = k3d.line(lines[i], shader='simple', color=0xFF22FF)\n",
    "        plot += p\n",
    "        \n",
    "plot = k3d.plot()\n",
    "plot_animation(plot, skeleton, animations[2])   \n",
    "plot.display()"
   ]
  },
  {
   "cell_type": "code",
   "execution_count": 22,
   "metadata": {},
   "outputs": [
    {
     "data": {
      "application/vnd.jupyter.widget-view+json": {
       "model_id": "44346488a3ea43c285218dc50ede806b",
       "version_major": 2,
       "version_minor": 0
      },
      "text/plain": [
       "Output()"
      ]
     },
     "metadata": {},
     "output_type": "display_data"
    }
   ],
   "source": [
    "human_skeleton = load_skeleton(r'../skeleton_retarget_human.dat')\n",
    "rhino_skeleton = load_skeleton(r'../skeleton_retarget_rhino.dat')\n",
    "\n",
    "plot = k3d.plot()\n",
    "plot_skeleton(plot, human_skeleton, 0xff0000)   \n",
    "plot_skeleton(plot, rhino_skeleton, 0x0000ff)   \n",
    "plot.display()"
   ]
  },
  {
   "cell_type": "code",
   "execution_count": 37,
   "metadata": {},
   "outputs": [
    {
     "data": {
      "application/vnd.jupyter.widget-view+json": {
       "model_id": "62dca039112a4b10b5fce62302644ea9",
       "version_major": 2,
       "version_minor": 0
      },
      "text/plain": [
       "Output()"
      ]
     },
     "metadata": {},
     "output_type": "display_data"
    }
   ],
   "source": [
    "human_skeleton = load_skeleton(r'../skeleton_retarget_human.dat')\n",
    "rhino_skeleton = load_skeleton(r'../skeleton_retarget_rhino.dat')\n",
    "\n",
    "local_animation = human_skeleton.convert_animation_to_local(animations[2])\n",
    "rhino_animation = rhino_skeleton.convert_back_local_animation(local_animation)\n",
    "\n",
    "plot = k3d.plot()\n",
    "plot_animation(plot, rhino_skeleton, rhino_animation)   \n",
    "plot.display()"
   ]
  },
  {
   "cell_type": "code",
   "execution_count": 38,
   "metadata": {},
   "outputs": [],
   "source": [
    "#save both animation to load in dcc\n",
    "save_animation(r'human_animation.dat', animations[2][1])\n",
    "save_animation(r'rhino_animation.dat', rhino_animation[1])"
   ]
  }
 ],
 "metadata": {
  "kernelspec": {
   "display_name": "Python 3",
   "language": "python",
   "name": "python3"
  },
  "language_info": {
   "codemirror_mode": {
    "name": "ipython",
    "version": 3
   },
   "file_extension": ".py",
   "mimetype": "text/x-python",
   "name": "python",
   "nbconvert_exporter": "python",
   "pygments_lexer": "ipython3",
   "version": "3.7.3"
  }
 },
 "nbformat": 4,
 "nbformat_minor": 2
}
