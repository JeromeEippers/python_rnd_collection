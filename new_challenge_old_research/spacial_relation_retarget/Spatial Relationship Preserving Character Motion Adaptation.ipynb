{
 "cells": [
  {
   "cell_type": "markdown",
   "metadata": {},
   "source": [
    "### Import external python files"
   ]
  },
  {
   "cell_type": "code",
   "execution_count": 32,
   "metadata": {},
   "outputs": [],
   "source": [
    "%matplotlib inline\n",
    "%run ../skeleton.py\n",
    "%run ../animation.py"
   ]
  },
  {
   "cell_type": "markdown",
   "metadata": {},
   "source": [
    "### Load the skeleton definition\n",
    "This is pickled from maya"
   ]
  },
  {
   "cell_type": "code",
   "execution_count": 33,
   "metadata": {},
   "outputs": [],
   "source": [
    "skeleton = load_skeleton(r'../skeleton_no_fingers.dat')\n",
    "animations = [load_animation(r\"../motion_graph/anim_{}.dat\".format(i)) for i in range(28)]"
   ]
  },
  {
   "cell_type": "markdown",
   "metadata": {},
   "source": [
    "### Draw Skeleton\n",
    "We will use k3d to display the skeleton in a view port"
   ]
  },
  {
   "cell_type": "code",
   "execution_count": 3,
   "metadata": {},
   "outputs": [
    {
     "data": {
      "application/vnd.jupyter.widget-view+json": {
       "model_id": "30fc5ee8ea6b4023ad1a8c076e97b702",
       "version_major": 2,
       "version_minor": 0
      },
      "text/plain": [
       "Output()"
      ]
     },
     "metadata": {},
     "output_type": "display_data"
    }
   ],
   "source": [
    "import k3d\n",
    "\n",
    "def plot_skeleton(plot, skeleton, width=0.05):\n",
    "    for i in range(len(skeleton._bones)):\n",
    "        if skeleton._bones[i]._parentId >= 0:\n",
    "            startM = skeleton.globalMatrix(i)\n",
    "            endM = skeleton.globalMatrix(skeleton._bones[i]._parentId)\n",
    "            p = k3d.line([startM[3][:3], endM[3][:3]], width=width, color=0x2233FF)\n",
    "            plot += p\n",
    "\n",
    "def plot_anchor(plot, skeleton):\n",
    "    p = k3d.points([\n",
    "            skeleton.anchorGlobalPosition(i) for i in range(len(skeleton._anchors))\n",
    "        ], point_size=0.02, color=0x55FF00)\n",
    "    plot += p\n",
    "    \n",
    "def plot_animation(plot, skeleton, animation):\n",
    "    #plot skeleton at 2 frames\n",
    "    keycount, tracks = animation\n",
    "    skeleton.load_animation(animation, int(keycount/2) )\n",
    "    plot_skeleton(plot, skeleton)\n",
    "\n",
    "    \n",
    "    #plot trajectories\n",
    "    boneIds = [skeleton.bone_id(n) for n in ['Hips','LeftHand','RightHand','LeftFoot','RightFoot']]\n",
    "    lines = [[] for i in range(len(boneIds))]\n",
    "    for frame in range(keycount):\n",
    "        skeleton.load_animation(animation, frame )\n",
    "        for i,boneId in enumerate(boneIds):\n",
    "            lines[i].append(skeleton.globalMatrix(boneId)[3][:3])\n",
    "            \n",
    "    for i in range(len(boneIds)):\n",
    "        p = k3d.line(lines[i], shader='simple', color=0xFF22FF)\n",
    "        plot += p\n",
    "            \n",
    "plot = k3d.plot()    \n",
    "plot_skeleton(plot, skeleton) \n",
    "plot_anchor(plot, skeleton)\n",
    "plot.display()"
   ]
  },
  {
   "cell_type": "code",
   "execution_count": 55,
   "metadata": {},
   "outputs": [
    {
     "data": {
      "application/vnd.jupyter.widget-view+json": {
       "model_id": "eb81247585374a34bcf601dc1516e400",
       "version_major": 2,
       "version_minor": 0
      },
      "text/plain": [
       "Output()"
      ]
     },
     "metadata": {},
     "output_type": "display_data"
    }
   ],
   "source": [
    "import numpy as np\n",
    "from scipy.spatial import Delaunay\n",
    "\n",
    "def build_skeleton_edges(skeleton):\n",
    "    edges = []\n",
    "    extra_edges = []\n",
    "    for bone in skeleton._bones[1:]:\n",
    "        children = skeleton.bone_children(bone._id)\n",
    "        #first connect all my children to me\n",
    "        for b in children:\n",
    "            edges.append([bone._id-1, b._id-1])\n",
    "        #connect all the children together\n",
    "        for a in children:\n",
    "            for b in children:\n",
    "                if a != b:\n",
    "                    extra_edges.append([a._id-1, b._id-1])\n",
    "    return edges, extra_edges\n",
    "\n",
    "def triangulate_skeleton(skeleton):\n",
    "    points = [skeleton.globalMatrix(i)[3][:3] for i in range(1, len(skeleton._bones))]\n",
    "    points += [skeleton.anchorGlobalPosition(i) for i in range(len(skeleton._anchors))]\n",
    "    points = np.array(points)\n",
    "    \n",
    "    tri = Delaunay(points, qhull_options = 'Qt Qbb Qc').simplices\n",
    "    \n",
    "    #discard flat tetrahedron\n",
    "    keep = np.ones(len(tri), dtype = bool)\n",
    "    for i, t in enumerate(tri):\n",
    "        if abs(np.linalg.det(np.hstack((points[t], np.ones([1,3+1]).T)))) < 1E-15:\n",
    "            keep[i] = False # Point is coplanar, we don't want to keep it\n",
    "    tri = tri[keep]\n",
    "    \n",
    "    #keep unique edges only\n",
    "    edges = np.array([\n",
    "        flattentup for tup in \n",
    "        [[[t[0],t[1]],[t[2],t[0]],[t[1],t[3]],[t[0],t[2]],[t[3],t[1]],[t[2],t[3]]] for t in tri] \n",
    "        for flattentup in tup])\n",
    "    edges.sort()\n",
    "    edges = np.unique(edges, axis=0)\n",
    "    \n",
    "    #keep edges that do not connect parent and child bones\n",
    "    bone_count = len(skeleton._bones)\n",
    "    def bone_id(pointId):\n",
    "        if pointId < bone_count:\n",
    "            return pointId\n",
    "        return skeleton._anchors[pointId-bone_count]._parentId\n",
    "        \n",
    "    edges_to_keep = []\n",
    "    for ed in edges:\n",
    "        a = bone_id(ed[0])\n",
    "        b = bone_id(ed[1])\n",
    "        if a != b and skeleton._bones[b]._parentId != a and skeleton._bones[a]._parentId != b:\n",
    "            edges_to_keep.append(ed)\n",
    "    edges = edges_to_keep\n",
    "    \n",
    "    #keep edges that are not in the skeleton already\n",
    "    skeleton_edges, skeleton_extra_edges = build_skeleton_edges(skeleton)\n",
    "    skeleton_edges += skeleton_extra_edges\n",
    "    \n",
    "    edges_to_keep = []\n",
    "    for ed in edges:\n",
    "        a = bone_id(ed[0])\n",
    "        b = bone_id(ed[1])\n",
    "        found = next((True for skl in skeleton_edges if (skl[0]==a and skl[1]==b) or (skl[0]==b and skl[1]==1)),False)\n",
    "        if found == False:\n",
    "            edges_to_keep.append(ed)\n",
    "    edges = edges_to_keep\n",
    "    \n",
    "    return points, edges\n",
    "    \n",
    "\n",
    "    \n",
    "def plot_edges(plot, points, edges, color=0xFF3300):\n",
    "    for edge in edges:\n",
    "        p = k3d.line([points[edge[0]], points[edge[1]]], color=color)\n",
    "        plot += p\n",
    "            \n",
    "\n",
    "skeleton.load_animation(animations[0], 10 )\n",
    "points, edges = triangulate_skeleton(skeleton)\n",
    "skeleton_edges, skeleton_extra_edges = build_skeleton_edges(skeleton)\n",
    "plot = k3d.plot() \n",
    "plot_edges(plot, points, skeleton_extra_edges, 0xFF0000)\n",
    "plot_edges(plot, points, skeleton_edges, 0xFF3355)\n",
    "plot_edges(plot, points, edges, 0x0033FF)\n",
    "plot.display()"
   ]
  },
  {
   "cell_type": "code",
   "execution_count": 48,
   "metadata": {},
   "outputs": [],
   "source": [
    "from scipy import sparse\n",
    "\n",
    "def laplacianUmbrellaMatrix(points, edges):\n",
    "    \"\"\"compute a laplacian matrix with umbrella weights\"\"\"\n",
    "    n = len(points)\n",
    "    I = []\n",
    "    J = []\n",
    "    V = []\n",
    "    \n",
    "    # Build sparse Laplacian Matrix coordinates and values\n",
    "    for i in range(n):\n",
    "        indices = [edge[0] for edge in edges if edge[1] == i]\n",
    "        indices += [edge[1] for edge in edges if edge[0] == i]\n",
    "        z = len(indices)\n",
    "        I = I + ([i] * (z + 1)) # repeated row\n",
    "        J = J + indices + [i] # column indices and this row\n",
    "        V = V + ([-1] * z) + [z] # negative weights and row degree\n",
    "    \n",
    "    L = sparse.coo_matrix((V, (I, J)), shape=(n, n)).tocsr()\n",
    "    \n",
    "    return L\n",
    "\n",
    "def laplacianInvDistanceMatrix(points, edges):\n",
    "    \"\"\"compute a laplacian matrix with umbrella weights\"\"\"\n",
    "    n = len(points)\n",
    "    I = []\n",
    "    J = []\n",
    "    V = []\n",
    "    \n",
    "    # Build sparse Laplacian Matrix coordinates and values\n",
    "    for i in range(n):\n",
    "        indices = [edge[0] for edge in edges if edge[1] == i]\n",
    "        distances = [points[edge[0]]-points[edge[1]] for edge in edges if edge[1] == i]\n",
    "        indices += [edge[1] for edge in edges if edge[0] == i]\n",
    "        distances += [points[edge[0]]-points[edge[1]] for edge in edges if edge[0] == i]\n",
    "        distances = np.array(distances)\n",
    "        #print (distances)\n",
    "        #raise Exception('stop')\n",
    "        distances = np.sum(distances*distances, axis=1)\n",
    "        weights = distances/np.max(distances)* -1\n",
    "        \n",
    "        z = len(indices)\n",
    "        I = I + ([i] * (z + 1)) # repeated row\n",
    "        J = J + indices + [i] # column indices and this row\n",
    "        V = V + weights.tolist() + [-np.sum(weights)] # negative weights and row degree\n",
    "    \n",
    "    L = sparse.coo_matrix((V, (I, J)), shape=(n, n)).tocsr()\n",
    "    \n",
    "    return L"
   ]
  },
  {
   "cell_type": "code",
   "execution_count": 56,
   "metadata": {},
   "outputs": [
    {
     "data": {
      "application/vnd.jupyter.widget-view+json": {
       "model_id": "577777eb3e644bc2ae4bc1fa4fe68646",
       "version_major": 2,
       "version_minor": 0
      },
      "text/plain": [
       "Output()"
      ]
     },
     "metadata": {},
     "output_type": "display_data"
    },
    {
     "name": "stdout",
     "output_type": "stream",
     "text": [
      "Iteration limit exceeded\n",
      "Iteration limit exceeded\n",
      "Iteration limit exceeded\n",
      "Iteration limit exceeded\n",
      "Optimization terminated successfully.\n",
      "Iteration limit exceeded\n",
      "Optimization terminated successfully.\n"
     ]
    }
   ],
   "source": [
    "from scipy.optimize import minimize\n",
    "\n",
    "def _test_laplacian_constraints(skeleton):\n",
    "    \n",
    "    points, edges = triangulate_skeleton(skeleton)\n",
    "    skeleton_edges, skeleton_edges_extra = build_skeleton_edges(skeleton)\n",
    "    full_skeleton_edges = skeleton_edges + skeleton_edges_extra\n",
    "    \n",
    "    def _objective(flattenV):\n",
    "        #lapacian energy minization\n",
    "        V = flattenV.reshape((vcount,3))\n",
    "        lv = L.dot(V) - Lstart\n",
    "        return np.sum(lv*lv) * 0.5\n",
    "\n",
    "    def _cnst_bone_length(flattenV, edgeids):\n",
    "        #constraints the length of the bones\n",
    "        V = flattenV.reshape((vcount,3))        \n",
    "        v = np.array( [V[full_skeleton_edges[edgeid][0]]-V[full_skeleton_edges[edgeid][1]] for edgeid in edgeids] )\n",
    "        b = np.array( [bone_lengths[edgeid] for edgeid in edgeids] )\n",
    "        return np.sum(b - np.sum(v*v))*.5\n",
    "\n",
    "    def _cnst_loc_position(flattenV, ptids):\n",
    "        #constraints a position\n",
    "        V = flattenV.reshape((vcount,3))\n",
    "        v = np.array([points[ptid] - V[ptid] for ptid in ptids])\n",
    "        return np.sum(v*v)\n",
    "    \n",
    "    def _bone_lengths(points):\n",
    "        v = np.array([points[a]-points[b] for a,b in full_skeleton_edges])\n",
    "        return np.sum(v*v, axis=1)\n",
    "    \n",
    "    \n",
    "    plot = k3d.plot()    \n",
    "    plot_edges(plot, points, skeleton_edges, 0xFF3300)\n",
    "    plot.display()\n",
    "    \n",
    "    #-----------------------------------------\n",
    "    bone_lengths = _bone_lengths(points)\n",
    "    bone_lengths *= 0.5\n",
    "    \n",
    "    \n",
    "    #setup constraints\n",
    "    #-----------------------------------------\n",
    "    constraints = []\n",
    "    \n",
    "    #bone length\n",
    "    constraints += [\n",
    "        {'type':'eq', 'fun':lambda v, indexes=[i]:_cnst_bone_length(v,indexes)} for i in range(len(skeleton_edges))\n",
    "    ]\n",
    "    \n",
    "    #foot contact\n",
    "    constraints += [\n",
    "        {'type':'eq', 'fun':lambda v, indexes=[\n",
    "            (skeleton.bone_id('LeftFootToes') - 1)\n",
    "        ]:_cnst_loc_position(v,indexes)}\n",
    "    ]\n",
    "    \n",
    "    \n",
    "    \n",
    "    \n",
    "    #Test with umbrella weights\n",
    "    #--------------------------------------------------------------\n",
    "    L = laplacianUmbrellaMatrix(points, edges+skeleton_edges_extra+skeleton_edges)\n",
    "    vcount = len(points)\n",
    "    Lstart = L.dot(points)\n",
    "    \n",
    "    v0 = points.copy()\n",
    "    for i in range(5):\n",
    "        sol = minimize(_objective, v0, method='SLSQP', constraints=constraints)\n",
    "        v0 = sol.x.reshape((vcount,3))\n",
    "        print (sol.message)\n",
    "        if sol.success:\n",
    "            break\n",
    "\n",
    "    plot_edges(plot, v0, skeleton_edges, 0x0033FF)\n",
    "    \n",
    "    #Test with distance weights\n",
    "    #--------------------------------------------------------------\n",
    "    L = laplacianInvDistanceMatrix(points, edges+skeleton_edges)\n",
    "    vcount = len(points)\n",
    "    Lstart = L.dot(points)\n",
    "    \n",
    "    v0 = points.copy()\n",
    "    for i in range(5):\n",
    "        sol = minimize(_objective, v0, method='SLSQP', constraints=constraints)\n",
    "        v0 = sol.x.reshape((vcount,3))\n",
    "        print (sol.message)\n",
    "        if sol.success:\n",
    "            break\n",
    "\n",
    "    plot_edges(plot, v0, skeleton_edges, 0x005500)\n",
    "    \n",
    "    \n",
    "_test_laplacian_constraints(skeleton)"
   ]
  },
  {
   "cell_type": "code",
   "execution_count": 25,
   "metadata": {},
   "outputs": [
    {
     "data": {
      "text/plain": [
       "22"
      ]
     },
     "execution_count": 25,
     "metadata": {},
     "output_type": "execute_result"
    }
   ],
   "source": [
    "skeleton.bone_id('LeftFootToes')"
   ]
  }
 ],
 "metadata": {
  "kernelspec": {
   "display_name": "Python 3",
   "language": "python",
   "name": "python3"
  },
  "language_info": {
   "codemirror_mode": {
    "name": "ipython",
    "version": 3
   },
   "file_extension": ".py",
   "mimetype": "text/x-python",
   "name": "python",
   "nbconvert_exporter": "python",
   "pygments_lexer": "ipython3",
   "version": "3.7.3"
  }
 },
 "nbformat": 4,
 "nbformat_minor": 2
}
