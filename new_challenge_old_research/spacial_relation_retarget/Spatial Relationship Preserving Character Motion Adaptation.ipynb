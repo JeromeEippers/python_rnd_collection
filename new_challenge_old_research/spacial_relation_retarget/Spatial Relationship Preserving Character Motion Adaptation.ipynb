{
 "cells": [
  {
   "cell_type": "markdown",
   "metadata": {},
   "source": [
    "### Import external python files"
   ]
  },
  {
   "cell_type": "code",
   "execution_count": 1,
   "metadata": {},
   "outputs": [],
   "source": [
    "%matplotlib inline\n",
    "%run ../skeleton.py\n",
    "%run ../animation.py"
   ]
  },
  {
   "cell_type": "markdown",
   "metadata": {},
   "source": [
    "### Load the skeleton definition\n",
    "This is pickled from maya"
   ]
  },
  {
   "cell_type": "code",
   "execution_count": 2,
   "metadata": {},
   "outputs": [],
   "source": [
    "skeleton = load_skeleton(r'../skeleton_no_fingers.dat')"
   ]
  },
  {
   "cell_type": "markdown",
   "metadata": {},
   "source": [
    "### Draw Skeleton\n",
    "We will use k3d to display the skeleton in a view port"
   ]
  },
  {
   "cell_type": "code",
   "execution_count": 4,
   "metadata": {},
   "outputs": [
    {
     "data": {
      "application/vnd.jupyter.widget-view+json": {
       "model_id": "e82a2ffaa4bc4b5d84ceda69ec21d97d",
       "version_major": 2,
       "version_minor": 0
      },
      "text/plain": [
       "Output()"
      ]
     },
     "metadata": {},
     "output_type": "display_data"
    }
   ],
   "source": [
    "import k3d\n",
    "\n",
    "def plot_skeleton(plot, skeleton):\n",
    "    for i in range(len(skeleton._bones)):\n",
    "        if skeleton._bones[i]._parentId >= 0:\n",
    "            startM = skeleton.globalMatrix(i)\n",
    "            endM = skeleton.globalMatrix(skeleton._bones[i]._parentId)\n",
    "            p = k3d.line([startM[3][:3], endM[3][:3]], width=0.05, color=0x2233FF)\n",
    "            plot += p\n",
    "\n",
    "def plot_anchor(plot, skeleton):\n",
    "    p = k3d.points([\n",
    "            skeleton.anchorGlobalPosition(i) for i in range(len(skeleton._anchors))\n",
    "        ], point_size=0.02, color=0x55FF00)\n",
    "    plot += p\n",
    "    \n",
    "def plot_animation(plot, skeleton, animation):\n",
    "    #plot skeleton at 2 frames\n",
    "    keycount, tracks = animation\n",
    "    skeleton.load_animation(animation, int(keycount/2) )\n",
    "    plot_skeleton(plot, skeleton)\n",
    "\n",
    "    \n",
    "    #plot trajectories\n",
    "    boneIds = [skeleton.bone_id(n) for n in ['Hips','LeftHand','RightHand','LeftFoot','RightFoot']]\n",
    "    lines = [[] for i in range(len(boneIds))]\n",
    "    for frame in range(keycount):\n",
    "        skeleton.load_animation(animation, frame )\n",
    "        for i,boneId in enumerate(boneIds):\n",
    "            lines[i].append(skeleton.globalMatrix(boneId)[3][:3])\n",
    "            \n",
    "    for i in range(len(boneIds)):\n",
    "        p = k3d.line(lines[i], shader='simple', color=0xFF22FF)\n",
    "        plot += p\n",
    "            \n",
    "plot = k3d.plot()    \n",
    "plot_skeleton(plot, skeleton) \n",
    "plot_anchor(plot, skeleton)\n",
    "plot.display()"
   ]
  },
  {
   "cell_type": "code",
   "execution_count": null,
   "metadata": {},
   "outputs": [],
   "source": []
  }
 ],
 "metadata": {
  "kernelspec": {
   "display_name": "Python 3",
   "language": "python",
   "name": "python3"
  },
  "language_info": {
   "codemirror_mode": {
    "name": "ipython",
    "version": 3
   },
   "file_extension": ".py",
   "mimetype": "text/x-python",
   "name": "python",
   "nbconvert_exporter": "python",
   "pygments_lexer": "ipython3",
   "version": "3.7.3"
  }
 },
 "nbformat": 4,
 "nbformat_minor": 2
}
