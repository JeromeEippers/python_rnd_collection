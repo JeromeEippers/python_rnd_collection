{
 "cells": [
  {
   "cell_type": "code",
   "execution_count": 1,
   "metadata": {},
   "outputs": [],
   "source": [
    "%run ../skeleton.py\n",
    "%run ../animation.py"
   ]
  },
  {
   "cell_type": "code",
   "execution_count": 2,
   "metadata": {},
   "outputs": [],
   "source": [
    "skeleton = load_skeleton(r'../skeleton.dat')\n",
    "animation = load_animation(r'AVRG_MOV_STD_Jog_Start.dat')"
   ]
  },
  {
   "cell_type": "code",
   "execution_count": 6,
   "metadata": {},
   "outputs": [
    {
     "data": {
      "application/vnd.jupyter.widget-view+json": {
       "model_id": "acb5503ad23344b490b809f6d06f91eb",
       "version_major": 2,
       "version_minor": 0
      },
      "text/plain": [
       "Output()"
      ]
     },
     "metadata": {},
     "output_type": "display_data"
    }
   ],
   "source": [
    "import k3d\n",
    "\n",
    "\n",
    "plot = k3d.plot()\n",
    "\n",
    "skeleton.load_animation(animation, 5 )\n",
    "\n",
    "for i in range(len(skeleton._bones)):\n",
    "    if skeleton._bones[i]._parentId >= 0:\n",
    "        startM = skeleton.globalMatrix(i)\n",
    "        endM = skeleton.globalMatrix(skeleton._bones[i]._parentId)\n",
    "        mesh = k3d.line([startM[3][:3], endM[3][:3]])\n",
    "        plot += mesh\n",
    "        \n",
    "skeleton.load_animation(animation, 15 )\n",
    "\n",
    "for i in range(len(skeleton._bones)):\n",
    "    if skeleton._bones[i]._parentId >= 0:\n",
    "        startM = skeleton.globalMatrix(i)\n",
    "        endM = skeleton.globalMatrix(skeleton._bones[i]._parentId)\n",
    "        mesh = k3d.line([startM[3][:3], endM[3][:3]])\n",
    "        plot += mesh\n",
    "plot.display()"
   ]
  }
 ],
 "metadata": {
  "kernelspec": {
   "display_name": "Python 3",
   "language": "python",
   "name": "python3"
  },
  "language_info": {
   "codemirror_mode": {
    "name": "ipython",
    "version": 3
   },
   "file_extension": ".py",
   "mimetype": "text/x-python",
   "name": "python",
   "nbconvert_exporter": "python",
   "pygments_lexer": "ipython3",
   "version": "3.7.3"
  }
 },
 "nbformat": 4,
 "nbformat_minor": 2
}
