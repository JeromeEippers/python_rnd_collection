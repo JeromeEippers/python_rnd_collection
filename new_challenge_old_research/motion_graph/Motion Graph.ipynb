{
 "cells": [
  {
   "cell_type": "code",
   "execution_count": 125,
   "metadata": {
    "collapsed": true
   },
   "outputs": [],
   "source": [
    "%matplotlib inline\n",
    "%run ../skeleton.py\n",
    "%run ../animation.py"
   ]
  },
  {
   "cell_type": "code",
   "execution_count": 13,
   "metadata": {
    "collapsed": true
   },
   "outputs": [],
   "source": [
    "skeleton = load_skeleton(r'../skeleton.dat')\n",
    "animations = [load_animation(\"anim_{}.dat\".format(i)) for i in range(3)]"
   ]
  },
  {
   "cell_type": "code",
   "execution_count": 76,
   "metadata": {},
   "outputs": [
    {
     "name": "stdout",
     "output_type": "stream",
     "text": [
      "44\n"
     ]
    },
    {
     "data": {
      "application/vnd.jupyter.widget-view+json": {
       "model_id": "965c5d258d534e8689578176aabc5830",
       "version_major": 2,
       "version_minor": 0
      },
      "text/plain": [
       "Output()"
      ]
     },
     "metadata": {},
     "output_type": "display_data"
    }
   ],
   "source": [
    "import k3d\n",
    "\n",
    "def plot_skeleton(plot, skeleton):\n",
    "    for i in range(len(skeleton._bones)):\n",
    "        if skeleton._bones[i]._parentId >= 0:\n",
    "            startM = skeleton.globalMatrix(i)\n",
    "            endM = skeleton.globalMatrix(skeleton._bones[i]._parentId)\n",
    "            p = k3d.line([startM[3][:3], endM[3][:3]], width=0.05, color=0x2233FF)\n",
    "            p.model_matrix = np.array([[1,0,0,0],[0,0,-1,0],[0,1,0,0],[0,0,0,1]])\n",
    "            plot += p\n",
    "\n",
    "def plot_animation(plot, skeleton, animation):\n",
    "    #plot skeleton at 2 frames\n",
    "    keycount, tracks = animation\n",
    "    skeleton.load_animation(animation, int(keycount/2) )\n",
    "    plot_skeleton(plot, skeleton)\n",
    "\n",
    "    \n",
    "    #plot trajectories\n",
    "    boneIds = [skeleton.bone_id(n) for n in ['Hips','LeftHand','RightHand','LeftFoot','RightFoot']]\n",
    "    lines = [[] for i in range(len(boneIds))]\n",
    "    for frame in range(keycount):\n",
    "        skeleton.load_animation(animation, frame )\n",
    "        for i,boneId in enumerate(boneIds):\n",
    "            lines[i].append(skeleton.globalMatrix(boneId)[3][:3])\n",
    "            \n",
    "    for i in range(len(boneIds)):\n",
    "        p = k3d.line(lines[i], shader='simple', color=0xFF22FF)\n",
    "        p.model_matrix = np.array([[1,0,0,0],[0,0,-1,0],[0,1,0,0],[0,0,0,1]])\n",
    "        plot += p\n",
    "        \n",
    "        \n",
    "def plot_anchor(plot, skeleton):\n",
    "    p = k3d.points([\n",
    "            skeleton.anchorGlobalPosition(i) for i in range(len(skeleton._anchors))\n",
    "        ], point_size=0.02, color=0x55FF00)\n",
    "    p.model_matrix = np.array([[1,0,0,0],[0,0,-1,0],[0,1,0,0],[0,0,0,1]])\n",
    "    plot += p\n",
    "        \n",
    "    \n",
    "        \n",
    "plot = k3d.plot()\n",
    "plot_animation(plot, skeleton, animations[0])   \n",
    "plot.display()"
   ]
  },
  {
   "cell_type": "code",
   "execution_count": 74,
   "metadata": {},
   "outputs": [
    {
     "data": {
      "application/vnd.jupyter.widget-view+json": {
       "model_id": "66b21f3925184282b8887d0a2f400237",
       "version_major": 2,
       "version_minor": 0
      },
      "text/plain": [
       "Output()"
      ]
     },
     "metadata": {},
     "output_type": "display_data"
    }
   ],
   "source": [
    "plot = k3d.plot()  \n",
    "skeleton = load_skeleton(r'../skeleton.dat')\n",
    "plot_skeleton(plot,skeleton)\n",
    "plot_anchor(plot,skeleton)\n",
    "plot.display()"
   ]
  },
  {
   "cell_type": "code",
   "execution_count": 77,
   "metadata": {},
   "outputs": [
    {
     "name": "stdout",
     "output_type": "stream",
     "text": [
      "44\n",
      "69\n"
     ]
    },
    {
     "data": {
      "application/vnd.jupyter.widget-view+json": {
       "model_id": "8a215732aa11461fad4870dc9417a43f",
       "version_major": 2,
       "version_minor": 0
      },
      "text/plain": [
       "Output()"
      ]
     },
     "metadata": {},
     "output_type": "display_data"
    }
   ],
   "source": [
    "plot = k3d.plot()\n",
    "plot_animation(plot, skeleton, animations[0])   \n",
    "plot_animation(plot, skeleton, animations[1])\n",
    "plot.display()"
   ]
  },
  {
   "cell_type": "code",
   "execution_count": 33,
   "metadata": {},
   "outputs": [
    {
     "ename": "NameError",
     "evalue": "name 'k3d' is not defined",
     "output_type": "error",
     "traceback": [
      "\u001b[1;31m---------------------------------------------------------------------------\u001b[0m",
      "\u001b[1;31mNameError\u001b[0m                                 Traceback (most recent call last)",
      "\u001b[1;32m<ipython-input-33-14ae40c85530>\u001b[0m in \u001b[0;36m<module>\u001b[1;34m()\u001b[0m\n\u001b[0;32m     22\u001b[0m \u001b[0mcloud_b\u001b[0m \u001b[1;33m=\u001b[0m \u001b[0mpoint_cloud\u001b[0m\u001b[1;33m(\u001b[0m\u001b[0mskeleton\u001b[0m\u001b[1;33m)\u001b[0m\u001b[1;33m\u001b[0m\u001b[0m\n\u001b[0;32m     23\u001b[0m \u001b[1;33m\u001b[0m\u001b[0m\n\u001b[1;32m---> 24\u001b[1;33m \u001b[0mplot\u001b[0m \u001b[1;33m=\u001b[0m \u001b[0mk3d\u001b[0m\u001b[1;33m.\u001b[0m\u001b[0mplot\u001b[0m\u001b[1;33m(\u001b[0m\u001b[1;33m)\u001b[0m\u001b[1;33m\u001b[0m\u001b[0m\n\u001b[0m\u001b[0;32m     25\u001b[0m \u001b[0mp\u001b[0m \u001b[1;33m=\u001b[0m \u001b[0mk3d\u001b[0m\u001b[1;33m.\u001b[0m\u001b[0mpoints\u001b[0m\u001b[1;33m(\u001b[0m\u001b[0mcloud_a\u001b[0m\u001b[1;33m,\u001b[0m \u001b[0mpoint_size\u001b[0m\u001b[1;33m=\u001b[0m\u001b[1;36m0.02\u001b[0m\u001b[1;33m,\u001b[0m \u001b[0mcolor\u001b[0m\u001b[1;33m=\u001b[0m\u001b[1;36m0x55FF00\u001b[0m\u001b[1;33m)\u001b[0m\u001b[1;33m\u001b[0m\u001b[0m\n\u001b[0;32m     26\u001b[0m \u001b[0mp\u001b[0m\u001b[1;33m.\u001b[0m\u001b[0mmodel_matrix\u001b[0m \u001b[1;33m=\u001b[0m \u001b[0mnp\u001b[0m\u001b[1;33m.\u001b[0m\u001b[0marray\u001b[0m\u001b[1;33m(\u001b[0m\u001b[1;33m[\u001b[0m\u001b[1;33m[\u001b[0m\u001b[1;36m1\u001b[0m\u001b[1;33m,\u001b[0m\u001b[1;36m0\u001b[0m\u001b[1;33m,\u001b[0m\u001b[1;36m0\u001b[0m\u001b[1;33m,\u001b[0m\u001b[1;36m0\u001b[0m\u001b[1;33m]\u001b[0m\u001b[1;33m,\u001b[0m\u001b[1;33m[\u001b[0m\u001b[1;36m0\u001b[0m\u001b[1;33m,\u001b[0m\u001b[1;36m0\u001b[0m\u001b[1;33m,\u001b[0m\u001b[1;33m-\u001b[0m\u001b[1;36m1\u001b[0m\u001b[1;33m,\u001b[0m\u001b[1;36m0\u001b[0m\u001b[1;33m]\u001b[0m\u001b[1;33m,\u001b[0m\u001b[1;33m[\u001b[0m\u001b[1;36m0\u001b[0m\u001b[1;33m,\u001b[0m\u001b[1;36m1\u001b[0m\u001b[1;33m,\u001b[0m\u001b[1;36m0\u001b[0m\u001b[1;33m,\u001b[0m\u001b[1;36m0\u001b[0m\u001b[1;33m]\u001b[0m\u001b[1;33m,\u001b[0m\u001b[1;33m[\u001b[0m\u001b[1;36m0\u001b[0m\u001b[1;33m,\u001b[0m\u001b[1;36m0\u001b[0m\u001b[1;33m,\u001b[0m\u001b[1;36m0\u001b[0m\u001b[1;33m,\u001b[0m\u001b[1;36m1\u001b[0m\u001b[1;33m]\u001b[0m\u001b[1;33m]\u001b[0m\u001b[1;33m)\u001b[0m\u001b[1;33m\u001b[0m\u001b[0m\n",
      "\u001b[1;31mNameError\u001b[0m: name 'k3d' is not defined"
     ]
    }
   ],
   "source": [
    "from scipy.optimize import minimize\n",
    "\n",
    "def point_cloud(skeleton):\n",
    "    cloud = np.array([skeleton.anchorGlobalPosition(i) for i in range(len(skeleton._anchors))])\n",
    "    average = np.average(cloud, axis=0)\n",
    "    average[1] = 0\n",
    "    return cloud - average\n",
    "\n",
    "def rotate_cloud(cloud, theta):\n",
    "    c, s = np.cos(theta), np.sin(theta)\n",
    "    M = np.array([[c,0,s],[0,1,0],[-s,0,c]])\n",
    "    return cloud.dot(M)\n",
    "\n",
    "def align_cloud(cloud, x,z,t):\n",
    "    cloud = rotate_cloud(cloud, t)\n",
    "    return cloud + np.array([x,0,z])\n",
    "\n",
    "skeleton.load_animation(animations[0], 10 )\n",
    "cloud_a = point_cloud(skeleton)\n",
    "\n",
    "skeleton.load_animation(animations[1], 35 )\n",
    "cloud_b = point_cloud(skeleton)\n",
    "\n",
    "plot = k3d.plot()\n",
    "p = k3d.points(cloud_a, point_size=0.02, color=0x55FF00)\n",
    "p.model_matrix = np.array([[1,0,0,0],[0,0,-1,0],[0,1,0,0],[0,0,0,1]])\n",
    "plot += p\n",
    "\n",
    "p = k3d.points(cloud_b, point_size=0.02, color=0xFF5500)\n",
    "p.model_matrix = np.array([[1,0,0,0],[0,0,-1,0],[0,1,0,0],[0,0,0,1]])\n",
    "plot += p\n",
    "\n",
    "plot.display()\n",
    "\n",
    "def _objective(xzt):\n",
    "    x,z,t = xzt\n",
    "    cloud = align_cloud(cloud_b, x,z,t)\n",
    "    v = cloud_a - cloud\n",
    "    return np.sum(v*v) * 0.5\n",
    "\n",
    "sol = minimize(_objective, [0,0,0], method='SLSQP')\n",
    "print (sol)\n",
    "\n",
    "p = k3d.points(align(cloud_b,*sol.x), point_size=0.02, color=0x0000FF)\n",
    "p.model_matrix = np.array([[1,0,0,0],[0,0,-1,0],[0,1,0,0],[0,0,0,1]])\n",
    "plot += p\n",
    "\n",
    "print (_objective([0,0,0]))\n",
    "print (_objective(sol.x))"
   ]
  },
  {
   "cell_type": "code",
   "execution_count": 46,
   "metadata": {},
   "outputs": [
    {
     "data": {
      "text/plain": [
       "<matplotlib.image.AxesImage at 0x147f7e030b8>"
      ]
     },
     "execution_count": 46,
     "metadata": {},
     "output_type": "execute_result"
    },
    {
     "data": {
      "image/png": "[encoded data removed]",
      "text/plain": [
       "<matplotlib.figure.Figure at 0x147f53cf940>"
      ]
     },
     "metadata": {},
     "output_type": "display_data"
    }
   ],
   "source": [
    "def compute_errors_between_2_animations(anim_a, anim_b, skeleton):\n",
    "    keycount_a, _ = anim_a\n",
    "    anim_a_clouds = []\n",
    "    for frame in range(keycount_a):\n",
    "        skeleton.load_animation(anim_a, frame)\n",
    "        anim_a_clouds.append(point_cloud(skeleton))\n",
    "        \n",
    "    keycount_b, _ = anim_b\n",
    "    anim_b_clouds = []\n",
    "    for frame in range(keycount_b):\n",
    "        skeleton.load_animation(anim_b, frame)\n",
    "        anim_b_clouds.append(point_cloud(skeleton))\n",
    "        \n",
    "    def _objective(xzt, cloud_a, cloud_b):\n",
    "        x,z,t = xzt\n",
    "        cloud = align_cloud(cloud_b, x,z,t)\n",
    "        v = cloud_a - cloud\n",
    "        return np.sum(v*v) * 0.5\n",
    "    \n",
    "    errors = []\n",
    "    for frame_a in range(keycount_a):\n",
    "        errors.append([])\n",
    "        for frame_b in range(keycount_b):\n",
    "            extra = (anim_a_clouds[frame_a], anim_b_clouds[frame_b])\n",
    "            sol = minimize(_objective, [0,0,0], method='SLSQP', args=extra)\n",
    "            errors[frame_a].append(sol.fun)\n",
    "        \n",
    "    return np.array(errors)\n",
    "\n",
    "errors = compute_errors_between_2_animations(animations[0], animations[2], skeleton)\n",
    "import matplotlib.pyplot as plt\n",
    "plt.imshow( errors )"
   ]
  },
  {
   "cell_type": "code",
   "execution_count": 45,
   "metadata": {},
   "outputs": [
    {
     "data": {
      "text/plain": [
       "<matplotlib.image.AxesImage at 0x147f78f3048>"
      ]
     },
     "execution_count": 45,
     "metadata": {},
     "output_type": "execute_result"
    },
    {
     "data": {
      "image/png": "[encoded data removed]",
      "text/plain": [
       "<matplotlib.figure.Figure at 0x147f8096cf8>"
      ]
     },
     "metadata": {},
     "output_type": "display_data"
    }
   ],
   "source": []
  }
 ],
 "metadata": {
  "kernelspec": {
   "display_name": "Python 3",
   "language": "python",
   "name": "python3"
  },
  "language_info": {
   "codemirror_mode": {
    "name": "ipython",
    "version": 3
   },
   "file_extension": ".py",
   "mimetype": "text/x-python",
   "name": "python",
   "nbconvert_exporter": "python",
   "pygments_lexer": "ipython3",
   "version": "3.6.3"
  }
 },
 "nbformat": 4,
 "nbformat_minor": 2
}
