{
 "cells": [
  {
   "cell_type": "markdown",
   "metadata": {},
   "source": [
    "# Motion Graphs\n",
    "\n",
    "![title](img/title.png)\n",
    "\n",
    "The idea of a motion graph is to take a bunch of animation and build a graph from frame to frame.  A frame is connected to the next frame in the animation and 0 or several frames in different animations if the motion are close to each other.\n",
    "\n",
    "![title](img/graph.png)"
   ]
  },
  {
   "cell_type": "markdown",
   "metadata": {},
   "source": [
    "### Import external python"
   ]
  },
  {
   "cell_type": "code",
   "execution_count": 24,
   "metadata": {},
   "outputs": [],
   "source": [
    "%matplotlib inline\n",
    "%run ../skeleton.py\n",
    "%run ../animation.py"
   ]
  },
  {
   "cell_type": "markdown",
   "metadata": {},
   "source": [
    "### Import skeleton and animations"
   ]
  },
  {
   "cell_type": "code",
   "execution_count": 25,
   "metadata": {},
   "outputs": [],
   "source": [
    "skeleton = load_skeleton(r'../skeleton.dat')\n",
    "animations = [load_animation(\"anim_{}.dat\".format(i)) for i in range(28)]"
   ]
  },
  {
   "cell_type": "markdown",
   "metadata": {},
   "source": [
    "### Drawing methods\n",
    "Let's define a few function to display a skeleont, animation and point cloud"
   ]
  },
  {
   "cell_type": "code",
   "execution_count": 5,
   "metadata": {},
   "outputs": [
    {
     "data": {
      "application/vnd.jupyter.widget-view+json": {
       "model_id": "31bd15409036443199135cd855eef21b",
       "version_major": 2,
       "version_minor": 0
      },
      "text/plain": [
       "Output()"
      ]
     },
     "metadata": {},
     "output_type": "display_data"
    }
   ],
   "source": [
    "import k3d\n",
    "\n",
    "def plot_skeleton(plot, skeleton):\n",
    "    for i in range(len(skeleton._bones)):\n",
    "        if skeleton._bones[i]._parentId >= 0:\n",
    "            startM = skeleton.globalMatrix(i)\n",
    "            endM = skeleton.globalMatrix(skeleton._bones[i]._parentId)\n",
    "            p = k3d.line([startM[3][:3], endM[3][:3]], width=0.05, color=0x2233FF)\n",
    "            plot += p\n",
    "\n",
    "def plot_animation(plot, skeleton, animation):\n",
    "    #plot skeleton at 2 frames\n",
    "    keycount, tracks = animation\n",
    "    skeleton.load_animation(animation, int(keycount/2) )\n",
    "    plot_skeleton(plot, skeleton)\n",
    "\n",
    "    \n",
    "    #plot trajectories\n",
    "    boneIds = [skeleton.bone_id(n) for n in ['Hips','LeftHand','RightHand','LeftFoot','RightFoot']]\n",
    "    lines = [[] for i in range(len(boneIds))]\n",
    "    for frame in range(keycount):\n",
    "        skeleton.load_animation(animation, frame )\n",
    "        for i,boneId in enumerate(boneIds):\n",
    "            lines[i].append(skeleton.globalMatrix(boneId)[3][:3])\n",
    "            \n",
    "    for i in range(len(boneIds)):\n",
    "        p = k3d.line(lines[i], shader='simple', color=0xFF22FF)\n",
    "        plot += p\n",
    "        \n",
    "        \n",
    "def plot_anchor(plot, skeleton):\n",
    "    p = k3d.points([\n",
    "            skeleton.anchorGlobalPosition(i) for i in range(len(skeleton._anchors))\n",
    "        ], point_size=0.02, color=0x55FF00)\n",
    "    plot += p\n",
    "        \n",
    "    \n",
    "        \n",
    "plot = k3d.plot()\n",
    "plot_animation(plot, skeleton, animations[0])   \n",
    "plot.display()"
   ]
  },
  {
   "cell_type": "markdown",
   "metadata": {},
   "source": [
    "## Compare Animation Frames\n",
    "\n",
    "We want to compare to frame of two animations."
   ]
  },
  {
   "cell_type": "code",
   "execution_count": 6,
   "metadata": {},
   "outputs": [
    {
     "data": {
      "application/vnd.jupyter.widget-view+json": {
       "model_id": "dcff6ae7ac874c70bb79a1809d5d28e3",
       "version_major": 2,
       "version_minor": 0
      },
      "text/plain": [
       "Output()"
      ]
     },
     "metadata": {},
     "output_type": "display_data"
    }
   ],
   "source": [
    "plot = k3d.plot()\n",
    "plot_animation(plot, skeleton, animations[0])   \n",
    "plot_animation(plot, skeleton, animations[1])\n",
    "plot.display()"
   ]
  },
  {
   "cell_type": "markdown",
   "metadata": {},
   "source": [
    "To compare the best solution is to compare a point clouds instead of bone orientation"
   ]
  },
  {
   "cell_type": "code",
   "execution_count": 7,
   "metadata": {},
   "outputs": [
    {
     "data": {
      "application/vnd.jupyter.widget-view+json": {
       "model_id": "a92f6f5c4d214053acf41dd1715205b9",
       "version_major": 2,
       "version_minor": 0
      },
      "text/plain": [
       "Output()"
      ]
     },
     "metadata": {},
     "output_type": "display_data"
    }
   ],
   "source": [
    "plot = k3d.plot()  \n",
    "skeleton = load_skeleton(r'../skeleton.dat')\n",
    "plot_skeleton(plot,skeleton)\n",
    "plot_anchor(plot,skeleton)\n",
    "plot.display()"
   ]
  },
  {
   "cell_type": "code",
   "execution_count": 17,
   "metadata": {},
   "outputs": [
    {
     "data": {
      "application/vnd.jupyter.widget-view+json": {
       "model_id": "91350b974ae64a2eb0c922a90f8ff2ed",
       "version_major": 2,
       "version_minor": 0
      },
      "text/plain": [
       "Output()"
      ]
     },
     "metadata": {},
     "output_type": "display_data"
    },
    {
     "name": "stdout",
     "output_type": "stream",
     "text": [
      "     fun: 1.732317711786871\n",
      "     jac: array([-0.00031982, -0.00046052,  0.00112501])\n",
      " message: 'Optimization terminated successfully.'\n",
      "    nfev: 40\n",
      "     nit: 7\n",
      "    njev: 7\n",
      "  status: 0\n",
      " success: True\n",
      "       x: array([-0.98582923, -0.16777801, -0.1685701 ])\n",
      "46.8235559393545\n",
      "1.732317711786871\n"
     ]
    }
   ],
   "source": [
    "from scipy.optimize import minimize\n",
    "\n",
    "def point_cloud(skeleton):\n",
    "    cloud = np.array([skeleton.anchorGlobalPosition(i) for i in range(len(skeleton._anchors))])\n",
    "    average = np.average(cloud, axis=0)\n",
    "    average[2] = 0\n",
    "    return cloud - average\n",
    "\n",
    "def point_cloud_and_average(skeleton):\n",
    "    cloud = np.array([skeleton.anchorGlobalPosition(i) for i in range(len(skeleton._anchors))])\n",
    "    average = np.average(cloud, axis=0)\n",
    "    average[2] = 0\n",
    "    return cloud, average\n",
    "\n",
    "def rotate_cloud(cloud, theta):\n",
    "    c, s = np.cos(theta), np.sin(theta)\n",
    "    M = np.array([[c,-s,0],[s,c,0],[0,0,1]])\n",
    "    return cloud.dot(M)\n",
    "\n",
    "def align_cloud(cloud, x,y,t):\n",
    "    cloud = rotate_cloud(cloud, t)\n",
    "    return cloud + np.array([x,y,0])\n",
    "\n",
    "skeleton.load_animation(animations[0], 10 )\n",
    "cloud_a = point_cloud(skeleton)\n",
    "\n",
    "skeleton.load_animation(animations[1], 35 )\n",
    "cloud_b = align_cloud(point_cloud(skeleton), 1,0,0)\n",
    "\n",
    "plot = k3d.plot()\n",
    "p = k3d.points(cloud_a, point_size=0.02, color=0x55FF00)\n",
    "plot += p\n",
    "\n",
    "p = k3d.points(cloud_b, point_size=0.02, color=0xFF5500)\n",
    "plot += p\n",
    "\n",
    "plot.display()\n",
    "\n",
    "def _objective(xyt):\n",
    "    x,y,t = xyt\n",
    "    cloud = align_cloud(cloud_b, x,y,t)\n",
    "    v = cloud_a - cloud\n",
    "    return np.sum(v*v) * 0.5\n",
    "\n",
    "sol = minimize(_objective, [0,0,0], method='SLSQP')\n",
    "print (sol)\n",
    "\n",
    "p = k3d.points(align_cloud(cloud_b,*sol.x), point_size=0.02, color=0x0000FF)\n",
    "plot += p\n",
    "\n",
    "print (_objective([0,0,0]))\n",
    "print (_objective(sol.x))"
   ]
  },
  {
   "cell_type": "code",
   "execution_count": 18,
   "metadata": {},
   "outputs": [
    {
     "data": {
      "text/plain": [
       "<matplotlib.image.AxesImage at 0x19f20c84438>"
      ]
     },
     "execution_count": 18,
     "metadata": {},
     "output_type": "execute_result"
    },
    {
     "data": {
      "image/png": "[encoded data removed]",
      "text/plain": [
       "<Figure size 432x288 with 1 Axes>"
      ]
     },
     "metadata": {
      "needs_background": "light"
     },
     "output_type": "display_data"
    }
   ],
   "source": [
    "def compute_errors_between_2_animations(anim_a, anim_b, skeleton):\n",
    "    keycount_a, _ = anim_a\n",
    "    anim_a_clouds = []\n",
    "    for frame in range(keycount_a):\n",
    "        skeleton.load_animation(anim_a, frame)\n",
    "        anim_a_clouds.append(point_cloud(skeleton))\n",
    "        \n",
    "    keycount_b, _ = anim_b\n",
    "    anim_b_clouds = []\n",
    "    for frame in range(keycount_b):\n",
    "        skeleton.load_animation(anim_b, frame)\n",
    "        anim_b_clouds.append(point_cloud(skeleton))\n",
    "        \n",
    "    def _objective(xyt, cloud_a, cloud_b):\n",
    "        cloud = align_cloud(cloud_b, *xyt)\n",
    "        v = cloud_a - cloud\n",
    "        return np.sum(v*v) * 0.5\n",
    "    \n",
    "    errors = []\n",
    "    for frame_a in range(keycount_a):\n",
    "        errors.append([])\n",
    "        for frame_b in range(keycount_b):\n",
    "            extra = (anim_a_clouds[frame_a], anim_b_clouds[frame_b])\n",
    "            sol = minimize(_objective, [0,0,0], method='SLSQP', args=extra)\n",
    "            errors[frame_a].append(sol.fun)\n",
    "        \n",
    "    return np.array(errors)\n",
    "\n",
    "errors = compute_errors_between_2_animations(animations[0], animations[2], skeleton)\n",
    "import matplotlib.pyplot as plt\n",
    "plt.imshow( errors )"
   ]
  },
  {
   "cell_type": "code",
   "execution_count": 19,
   "metadata": {},
   "outputs": [
    {
     "data": {
      "text/plain": [
       "<matplotlib.image.AxesImage at 0x19f20cc66a0>"
      ]
     },
     "execution_count": 19,
     "metadata": {},
     "output_type": "execute_result"
    },
    {
     "data": {
      "image/png": "[encoded data removed]",
      "text/plain": [
       "<Figure size 432x288 with 1 Axes>"
      ]
     },
     "metadata": {
      "needs_background": "light"
     },
     "output_type": "display_data"
    }
   ],
   "source": [
    "def compute_errors_between_2_animations_range(anim_a, anim_b, skeleton):\n",
    "    keycount_a, _ = anim_a\n",
    "    anim_a_clouds = []\n",
    "    for frame in range(keycount_a):\n",
    "        skeleton.load_animation(anim_a, frame)\n",
    "        anim_a_clouds.append(point_cloud(skeleton))\n",
    "        \n",
    "    keycount_b, _ = anim_b\n",
    "    anim_b_clouds = []\n",
    "    for frame in range(keycount_b):\n",
    "        skeleton.load_animation(anim_b, frame)\n",
    "        anim_b_clouds.append(point_cloud(skeleton))\n",
    "        \n",
    "    def _objective(xyt, cloud_a, cloud_b, weights):\n",
    "        cloud = align_cloud(cloud_b, *xyt)\n",
    "        v = cloud_a - cloud\n",
    "        sqr = np.sum(v*v, axis=1)\n",
    "        return np.sum(sqr * weights) * 0.5\n",
    "    \n",
    "    def _concat(arg, arg2):\n",
    "        a = np.concatenate((arg[0],arg2[0]), axis=0)\n",
    "        b = np.concatenate((arg[1],arg2[1]), axis=0)\n",
    "        w = np.concatenate((arg[2],arg2[2]))\n",
    "        return (a,b,w)\n",
    "    \n",
    "    def _build_lists(frame_a, frame_b, weight):\n",
    "        a = anim_a_clouds[frame_a]\n",
    "        b = anim_b_clouds[frame_b]\n",
    "        w = np.array([weight]*a.shape[0])\n",
    "        return (a,b,w)\n",
    "    \n",
    "    errors = []\n",
    "    for frame_a in range(keycount_a):\n",
    "        errors.append([])\n",
    "        for frame_b in range(keycount_b):\n",
    "               \n",
    "            arg = _build_lists(frame_a, frame_b, 1.0)\n",
    "            \n",
    "            if frame_a > 0 and frame_b > 0:\n",
    "                arg2 = _build_lists(frame_a-1, frame_b-1, 0.9)\n",
    "                arg = _concat(arg2, arg)\n",
    "                \n",
    "            if frame_a > 1 and frame_b > 1:\n",
    "                arg2 = _build_lists(frame_a-2, frame_b-2, 0.7)\n",
    "                arg = _concat(arg2, arg)\n",
    "                \n",
    "            if frame_a > 2 and frame_b > 2:\n",
    "                arg2 = _build_lists(frame_a-3, frame_b-3, 0.5)\n",
    "                arg = _concat(arg2, arg)\n",
    "                \n",
    "            if frame_a < keycount_a-1 and frame_b < keycount_b-1:\n",
    "                arg2 = _build_lists(frame_a+1, frame_b+1, 0.9)\n",
    "                arg = _concat(arg, arg2)\n",
    "                \n",
    "            if frame_a < keycount_a-2 and frame_b < keycount_b-2:\n",
    "                arg2 = _build_lists(frame_a+2, frame_b+2, 0.7)\n",
    "                arg = _concat(arg, arg2)\n",
    "                \n",
    "            if frame_a < keycount_a-3 and frame_b < keycount_b-3:\n",
    "                arg2 = _build_lists(frame_a+3, frame_b+3, 0.5)\n",
    "                arg = _concat(arg, arg2)\n",
    "      \n",
    "            sol = minimize(_objective, [0,0,0], method='SLSQP', args=arg)\n",
    "            errors[frame_a].append(sol.fun)\n",
    "        \n",
    "    return np.array(errors)\n",
    "\n",
    "errors_r = compute_errors_between_2_animations_range(animations[0], animations[2], skeleton)\n",
    "import matplotlib.pyplot as plt\n",
    "plt.imshow( errors_r )\n",
    "\n"
   ]
  },
  {
   "cell_type": "code",
   "execution_count": 20,
   "metadata": {},
   "outputs": [
    {
     "data": {
      "text/plain": [
       "<matplotlib.image.AxesImage at 0x19f20d23c18>"
      ]
     },
     "execution_count": 20,
     "metadata": {},
     "output_type": "execute_result"
    },
    {
     "data": {
      "image/png": "[encoded data removed]",
      "text/plain": [
       "<Figure size 432x288 with 1 Axes>"
      ]
     },
     "metadata": {
      "needs_background": "light"
     },
     "output_type": "display_data"
    }
   ],
   "source": [
    "def local_minima(array2d):\n",
    "    return np.array(\n",
    "        np.where( \n",
    "            ((array2d <= np.roll(array2d,  1, 0)) &\n",
    "            (array2d <= np.roll(array2d, -1, 0)) &\n",
    "            (array2d <= np.roll(array2d,  1, 1)) &\n",
    "            (array2d <= np.roll(array2d, -1, 1)))\n",
    "        )\n",
    "    ).T\n",
    "\n",
    "minimas = local_minima(errors_r)\n",
    "\n",
    "errors_show = errors_r.copy()\n",
    "for a, b in minimas:\n",
    "    errors_show[a][b] = -2\n",
    "    pass\n",
    "plt.imshow( errors_show )"
   ]
  },
  {
   "cell_type": "code",
   "execution_count": null,
   "metadata": {},
   "outputs": [],
   "source": [
    "def compute_errors_between_all(animations, skeleton):\n",
    "    count = len(animations)\n",
    "    accessors = np.array([[-1]*count for i in range(count)])\n",
    "    datas = []\n",
    "    for i in range(count):\n",
    "        for j in range(count):\n",
    "            \n",
    "            #already done ?\n",
    "            if accessors[i,j] < 0:\n",
    "                dists = compute_errors_between_2_animations_range(animations[i], animations[j], skeleton)\n",
    "                datas.append(dists)\n",
    "                accessors[i,j] = len(datas)-1\n",
    "                \n",
    "                if accessors[j,i] < 0:\n",
    "                    datas.append(dists.T)\n",
    "                    accessors[j,i] = len(datas)-1\n",
    "    return datas, accessors\n",
    "\n",
    "datas, accessors = compute_errors_between_all(animations, skeleton)\n",
    "\n",
    "animcount = len(animations)\n",
    "fig, _axs = plt.subplots(nrows=animcount, ncols=animcount)\n",
    "for i in range(animcount):\n",
    "    for j in range(animcount):\n",
    "        _axs[i,j].imshow(datas[accessors[i,j]])"
   ]
  },
  {
   "cell_type": "code",
   "execution_count": null,
   "metadata": {},
   "outputs": [],
   "source": [
    "# commented out to avoid calling it by mistake\n",
    "\n",
    "#import pickle\n",
    "#x = pickle.dumps((datas, accessors))\n",
    "#with open(r'animation_errors_data.dat', 'wb') as f:\n",
    "#    f.write(x)"
   ]
  },
  {
   "cell_type": "code",
   "execution_count": 21,
   "metadata": {},
   "outputs": [
    {
     "data": {
      "text/plain": [
       "<matplotlib.image.AxesImage at 0x19f20da29b0>"
      ]
     },
     "execution_count": 21,
     "metadata": {},
     "output_type": "execute_result"
    },
    {
     "data": {
      "image/png": "[encoded data removed]",
      "text/plain": [
       "<Figure size 432x288 with 1 Axes>"
      ]
     },
     "metadata": {
      "needs_background": "light"
     },
     "output_type": "display_data"
    }
   ],
   "source": [
    "import pickle\n",
    "datas, accessors = pickle.load(open(r'animation_errors_data.dat','rb'))\n",
    "import matplotlib.pyplot as plt\n",
    "plt.imshow( datas[3] )"
   ]
  },
  {
   "cell_type": "markdown",
   "metadata": {},
   "source": [
    "## Build the graph\n",
    "\n",
    "![title](img/graph.png)"
   ]
  },
  {
   "cell_type": "code",
   "execution_count": 22,
   "metadata": {},
   "outputs": [
    {
     "name": "stdout",
     "output_type": "stream",
     "text": [
      "skipped 4 66\n",
      "skipped 25 73\n",
      "4.074242424242424\n",
      "36\n",
      "0\n",
      "[[  0   2]\n",
      " [  2 468]\n",
      " [  3 341]\n",
      " [  4 148]\n",
      " [  5  82]\n",
      " [  6  57]\n",
      " [  7 118]\n",
      " [  8  50]\n",
      " [  9  12]\n",
      " [ 10  10]\n",
      " [ 11   1]\n",
      " [ 12   2]\n",
      " [ 13   4]\n",
      " [ 14   6]\n",
      " [ 15   1]\n",
      " [ 16   2]\n",
      " [ 17   1]\n",
      " [ 19   1]\n",
      " [ 21   2]\n",
      " [ 23   1]\n",
      " [ 24   2]\n",
      " [ 26   3]\n",
      " [ 27   2]\n",
      " [ 35   2]\n",
      " [ 36   2]]\n"
     ]
    }
   ],
   "source": [
    "motion_graph = []\n",
    "\n",
    "class graphnode(object):\n",
    "    def __init__(self, animid, frameid):\n",
    "        self.animid = animid\n",
    "        self.frameid = frameid\n",
    "        self.children = []\n",
    "\n",
    "#first add all the animations as is in the graph\n",
    "for animid, animation in enumerate(animations) :\n",
    "    keycount, frames = animation\n",
    "    parentnode = None\n",
    "    nodelist = []\n",
    "    cloud = []\n",
    "    for frameid in range(keycount):\n",
    "        #if we enter in an animation with constant data we stop\n",
    "        skeleton.load_animation(animation, frameid)\n",
    "        ncloud = point_cloud(skeleton)\n",
    "        if frameid > 0:\n",
    "            v = cloud - ncloud\n",
    "            dist = np.sum(v*v) * 0.5\n",
    "            if dist < 0.00001:\n",
    "                print ('skipped {} {}'.format(animid, frameid))\n",
    "                break\n",
    "        cloud = ncloud\n",
    "        node = graphnode(animid, frameid)\n",
    "        if parentnode :\n",
    "            parentnode.children.append(node)\n",
    "        nodelist.append(node)\n",
    "        parentnode = node\n",
    "    motion_graph.append(nodelist)\n",
    "        \n",
    "animcount = len(animations)\n",
    "#compute extra connections\n",
    "for i in range(animcount):\n",
    "    for j in range(animcount):\n",
    "        errors = datas[accessors[i,j]]\n",
    "        minimas = local_minima(errors)\n",
    "        keycount, _ = animations[j]\n",
    "        \n",
    "        for a, b in minimas:\n",
    "            if errors[a][b] < 2 and b < keycount-1: #below an error threshold\n",
    "                if i != j or a > b+4 or a < b+4: #at least 5 frames away in the same animation\n",
    "                    if len(motion_graph[i]) > a and len(motion_graph[j]) > b+1: #make sure we have that node in the graph first\n",
    "                        motion_graph[i][a].children.append(motion_graph[j][b+1])\n",
    "        \n",
    "connectivity = [len(node.children) for anim in motion_graph for node in anim]\n",
    "print(np.mean(connectivity))\n",
    "print(np.max(connectivity))\n",
    "print(np.min(connectivity))\n",
    "print(np.array(np.unique(connectivity, return_counts=True)).T)"
   ]
  },
  {
   "cell_type": "code",
   "execution_count": 29,
   "metadata": {},
   "outputs": [
    {
     "name": "stdout",
     "output_type": "stream",
     "text": [
      "1000\n"
     ]
    },
    {
     "data": {
      "application/vnd.jupyter.widget-view+json": {
       "model_id": "04f83499cb2d44ea92b36b3e84f77581",
       "version_major": 2,
       "version_minor": 0
      },
      "text/plain": [
       "Output()"
      ]
     },
     "metadata": {},
     "output_type": "display_data"
    }
   ],
   "source": [
    "import random\n",
    "\n",
    "tracks_buffer = skeleton.create_tracks_buffer()\n",
    "discontinuities = []\n",
    "node = motion_graph[0][0]\n",
    "\n",
    "plot = k3d.plot()\n",
    "\n",
    "def plot_Hips(plot, skeleton, color):\n",
    "    boneId = skeleton.bone_id('Hips')\n",
    "    M = skeleton.globalMatrix(boneId)\n",
    "    p = k3d.points(M[3][:3], point_size=0.05, color=color)\n",
    "    plot += p\n",
    "\n",
    "        \n",
    "\n",
    "def _objective(xyt, cloud_a, cloud_b):\n",
    "    cloud = align_cloud(cloud_b, *xyt)\n",
    "    v = cloud_a - cloud\n",
    "    return np.sum(v*v) * 0.5\n",
    "\n",
    "for i in range(1000):\n",
    "    child_count = len( node.children )\n",
    "    if child_count == 0 : #we are stuck\n",
    "        print('blocked')\n",
    "        break\n",
    "    nextid = 0\n",
    "    if random.randint(0,5) > 1:\n",
    "        nextid = random.randint(0,child_count-1)\n",
    "    \n",
    "\n",
    "    #move to the next frame\n",
    "    prevnode = node\n",
    "    node = node.children[nextid]\n",
    "    \n",
    "    #if we are jumping around in the motion graph, we need to align the two animations\n",
    "    if i != 0 and ( prevnode.animid != node.animid or prevnode.frameid != node.frameid-1 ):\n",
    "        discontinuities.append(i)\n",
    "        #we will solve clouds for previous node and next node\n",
    "        #the skeleton already holds the previous frame\n",
    "        cloud_a, average_a = point_cloud_and_average(skeleton)\n",
    "        #load the new animation\n",
    "        skeleton.load_animation(animations[node.animid], node.frameid-1)\n",
    "        cloud_b, average_b = point_cloud_and_average(skeleton)\n",
    "        \n",
    "        #remove the average to help the minize function\n",
    "        cloud_a -= average_a\n",
    "        cloud_b -= average_b\n",
    "        average = average_b-average_a\n",
    "        \n",
    "        #align\n",
    "        sol = minimize(_objective, [0,0,0], method='SLSQP', args=(cloud_a, cloud_b))\n",
    "        \n",
    "        #build matrix out or result\n",
    "        x,y,theta = sol.x\n",
    "        c, s = np.cos(theta), np.sin(theta)\n",
    "        M = np.array([[c,-s,0,0],[s,c,0,0],[0,0,1,0],[0,0,0,1]], dtype=float)\n",
    "\n",
    "        #move the world matrix\n",
    "        skeleton.world[3][:3] -= average+np.array([x,y,0])\n",
    "        \n",
    "        #recompute the center of cloud\n",
    "        skeleton.load_animation(animations[node.animid], node.frameid-1)\n",
    "        cloud_b, average_b = point_cloud_and_average(skeleton)\n",
    "\n",
    "        #rotate the matrix around the center of the cloud\n",
    "        skeleton.world[3][:3] -= average_b\n",
    "        skeleton.world = skeleton.world.dot(M)\n",
    "        skeleton.world[3][:3] += average_b\n",
    "\n",
    "    #store animation\n",
    "    skeleton.load_animation(animations[node.animid], node.frameid)\n",
    "    skeleton.save_tracks(tracks_buffer)\n",
    "    \n",
    "keycount = len(tracks_buffer[0][1])\n",
    "print ( keycount )\n",
    "skeleton.world = np.array([[1,0,0,0],[0,1,0,0],[0,0,1,0],[0,0,0,1]], dtype=float)\n",
    "plot_animation(plot, skeleton, (keycount, tracks_buffer))   \n",
    "plot.display()"
   ]
  },
  {
   "cell_type": "code",
   "execution_count": 30,
   "metadata": {},
   "outputs": [],
   "source": [
    "save_animation(r'random_walk_animation_raw.dat', tracks_buffer)\n",
    "\n",
    "import pickle\n",
    "x = pickle.dumps(discontinuities, protocol=2)\n",
    "with open(r'random_walk_animation_discontinuities.dat', 'wb') as f:\n",
    "    f.write(x)\n"
   ]
  }
 ],
 "metadata": {
  "kernelspec": {
   "display_name": "Python 3",
   "language": "python",
   "name": "python3"
  },
  "language_info": {
   "codemirror_mode": {
    "name": "ipython",
    "version": 3
   },
   "file_extension": ".py",
   "mimetype": "text/x-python",
   "name": "python",
   "nbconvert_exporter": "python",
   "pygments_lexer": "ipython3",
   "version": "3.7.3"
  }
 },
 "nbformat": 4,
 "nbformat_minor": 2
}
