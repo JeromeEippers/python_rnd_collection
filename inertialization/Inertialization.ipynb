{
 "cells": [
  {
   "cell_type": "markdown",
   "metadata": {},
   "source": [
    "# Inertialization\n",
    "\n",
    "This is a test implementation of the inertialization system from Epic Games.\n",
    "https://cdn.gearsofwar.com/thecoalition/publications/GDC%202018%20-%20Inertialization%20-%20High%20Performance%20Animation%20Transitions%20in%20Gears%20of%20War.pdf\n",
    "\n",
    "also thanks to portalmk2 for his implementation in Unity\n",
    "https://github.com/portalmk2/InertializationForUnity\n"
   ]
  },
  {
   "cell_type": "code",
   "execution_count": 75,
   "metadata": {
    "collapsed": true
   },
   "outputs": [],
   "source": [
    "#import custom math classes\n",
    "%run mtypes.py\n",
    "\n",
    "#inline matplotlib\n",
    "%matplotlib inline\n",
    "\n",
    "#imports\n",
    "import math\n",
    "import matplotlib\n",
    "import matplotlib.pyplot as plt"
   ]
  },
  {
   "cell_type": "markdown",
   "metadata": {},
   "source": [
    "### TRANSITIONS AS A POST-PROCESS\n",
    "\n",
    "● Capture pose difference between Source and Target\n",
    "\n",
    "● Ease out the difference over time\n",
    "\n",
    "● Remember Source velocity (via finite differences)\n",
    "\n",
    "● Match initial velocity\n",
    "\n",
    "● Quintic polynomial [Flash and Hogan 1985]\n",
    "\n",
    "● Limit overshoot by controlling initial acceleration\n",
    "\n",
    "● Choose a0 to give us zero jerk at t1"
   ]
  },
  {
   "cell_type": "code",
   "execution_count": 113,
   "metadata": {
    "collapsed": true
   },
   "outputs": [],
   "source": [
    "def inertialize(x0, v0, t1, t):\n",
    "    \n",
    "    #check if the velocity is going toward reaching 0 or not\n",
    "    if v0 >= 0:\n",
    "        v0 = 0\n",
    "    else:\n",
    "        t1adjusted = -5.0*x0/v0\n",
    "        if t1adjusted > 0:\n",
    "            t1 = min(t1, t1adjusted)\n",
    "    t = min(t,t1)\n",
    "            \n",
    "    #compute the acceleration\n",
    "    a0 = max((-8.0*v0*t1 - 20.0*x0)/(t1*t1),0)\n",
    "\n",
    "    #compute the factors of the polynomial\n",
    "    A = -(a0*t1*t1 + 6.0*v0*t1 + 12.0*x0)/(2.0*t1*t1*t1*t1*t1)\n",
    "    B = (3.0*a0*t1*t1 + 16.0*v0*t1 + 30.0*x0)/(2.0*t1*t1*t1*t1)\n",
    "    C = -(3.0*a0*t1*t1 + 12.0*v0*t1 +20.0*x0)/(2.0*t1*t1*t1)\n",
    "    \n",
    "    xt = A*t*t*t*t*t + B*t*t*t*t + C*t*t*t + a0*0.5*t*t + v0*t + x0 \n",
    "    #print(\"x0:{}, v0:{}, t1:{}, t:{}, xt:{}\".format(x0,v0,t1,t,xt))\n",
    "    return xt"
   ]
  },
  {
   "cell_type": "code",
   "execution_count": 77,
   "metadata": {},
   "outputs": [
    {
     "data": {
      "image/png": "[encoded data removed]",
      "text/plain": [
       "<matplotlib.figure.Figure at 0x1db755ac358>"
      ]
     },
     "metadata": {},
     "output_type": "display_data"
    }
   ],
   "source": [
    "def draw_line(ax, x0, v, t0, t1, color):\n",
    "    times = [t0 + (t1-t0)/20.0*i for i in range(21)]\n",
    "    values = [x0 + v*t for t in times]\n",
    "    ax.plot(times, values, color=color)\n",
    "\n",
    "\n",
    "fig, ax = plt.subplots()\n",
    "draw_line(ax, 1.3, -1, 0, 1, 'b')\n",
    "draw_line(ax, 0, 0, 1, 2, 'g')\n",
    "ax.set_aspect(1.0)\n",
    "plt.show()\n"
   ]
  },
  {
   "cell_type": "code",
   "execution_count": 78,
   "metadata": {},
   "outputs": [
    {
     "data": {
      "image/png": "[encoded data removed]",
      "text/plain": [
       "<matplotlib.figure.Figure at 0x1db7561c780>"
      ]
     },
     "metadata": {},
     "output_type": "display_data"
    }
   ],
   "source": [
    "def draw_intertialize_value_curve(ax, x0, v0, t0, blendTime, color):\n",
    "    times = [t0 + blendTime/20.0*i for i in range(21)]\n",
    "    values = [inertialize(x0, v0, blendTime, blendTime/20.0*i) for i in range(21)]\n",
    "    ax.plot(times, values, color=color)\n",
    "\n",
    "fig, ax = plt.subplots()\n",
    "draw_line(ax, 1.3, -1, 0, 1, 'b')\n",
    "draw_line(ax, 0, 0, 1, 2, 'g')\n",
    "draw_intertialize_value_curve(ax, 1.3-1, -1, 1, .6, 'r')\n",
    "ax.set_aspect(1.0)\n",
    "plt.show()"
   ]
  },
  {
   "cell_type": "markdown",
   "metadata": {
    "collapsed": true
   },
   "source": [
    "## Skeleton animation.\n",
    "\n",
    "Inertialize between two animations.<br>\n",
    "Let's load two simple anilmations from maya and see if we can inertialize between the 2."
   ]
  },
  {
   "cell_type": "markdown",
   "metadata": {},
   "source": [
    "#### skeleton"
   ]
  },
  {
   "cell_type": "code",
   "execution_count": 79,
   "metadata": {
    "collapsed": true
   },
   "outputs": [],
   "source": [
    "class Skeleton(object):\n",
    "\n",
    "    class Bone(object):\n",
    "        def __init__(self, pq, parent ):\n",
    "            self.pq = pq\n",
    "            self.parent = parent\n",
    "\n",
    "    def __init__(self):\n",
    "        self.bones = []\n",
    "\n",
    "    def add(self, pq, parent):\n",
    "        self.bones.append(self.__class__.Bone(pq, parent))\n",
    "\n",
    "    def globalPq(self, id):\n",
    "        if self.bones[id].parent < 0:\n",
    "            return self.bones[id].pq.copy()\n",
    "        return self.globalPq(self.bones[id].parent) * self.bones[id].pq\n",
    "\n",
    "    def setGlobalPq(self, id, pq):\n",
    "        newPosQuat = pq\n",
    "        if self.bones[id].parent >= 0 :\n",
    "            newPosQuat = self.globalPq(self.bones[id].parent).inverse() * pq\n",
    "        self.bones[id].pq = newPosQuat.copy()\n",
    "        \n",
    "boneList = [\n",
    "    \"Hips\", -1,\n",
    "    \"LeftUpLeg\", 0,\n",
    "    \"LeftLeg\", 1,\n",
    "    \"LeftFoot\", 2,\n",
    "    \"LeftToeBase\", 3,\n",
    "    \"RightUpLeg\", 0,\n",
    "    \"RightLeg\", 5,\n",
    "    \"RightFoot\", 6,\n",
    "    \"RightToeBase\", 7,\n",
    "    \"Spine\", 0,\n",
    "    \"Spine1\", 9,\n",
    "    \"LeftShoulder\", 10,\n",
    "    \"LeftArm\", 11,\n",
    "    \"LeftForeArm\", 12,\n",
    "    \"LeftHand\", 13,\n",
    "    \"RightShoulder\", 10,\n",
    "    \"RightArm\", 15,\n",
    "    \"RightForeArm\", 16,\n",
    "    \"RightHand\", 17,\n",
    "    \"Neck\", 10,\n",
    "    \"Head\", 19\n",
    "]\n",
    "\n",
    "def create_skeleton():\n",
    "    skel = Skeleton()\n",
    "    for i in range(1,len(boneList),2):\n",
    "        skel.add(PosQuat(), boneList[i])\n",
    "    return skel\n",
    "\n",
    "def read_key(skel, anim, key):\n",
    "    for i in range(len(skel.bones)):\n",
    "        m = anim[i][1][key]\n",
    "        m = Matrix([m[0:4],m[4:8],m[8:12],m[12:16]])\n",
    "        skel.bones[i].pq = PosQuat.fromMatrix(m)\n",
    "        \n",
    "def draw_skeleton_points(ax, skel, color):\n",
    "    for i in range(len(skel.bones)):\n",
    "        pt = skel.globalPq(i).p._values\n",
    "        ax.scatter(pt[0], pt[1], color=color)\n",
    "        \n",
    "def draw_skeleton_joints(ax, skel, color):\n",
    "    for i in range(len(skel.bones)):\n",
    "        if skel.bones[i].parent >= 0:\n",
    "            \n",
    "            pt = skel.globalPq(i).p._values\n",
    "            ptparent = skel.globalPq(skel.bones[i].parent).p._values\n",
    "            ax.plot([pt[0],ptparent[0]], [pt[1],ptparent[1]], color=color)\n",
    "            \n",
    "def draw_curve(ax, skel, anim, bone, length, color):\n",
    "    xs = []\n",
    "    ys = []\n",
    "    for i in range(length):\n",
    "        read_key(skel, anim, i)\n",
    "        pt = skel.globalPq(bone).p._values\n",
    "        xs.append(pt[0])\n",
    "        ys.append(pt[1])\n",
    "    ax.plot(xs,ys, color=color) \n",
    "    "
   ]
  },
  {
   "cell_type": "markdown",
   "metadata": {},
   "source": [
    "#### load animations"
   ]
  },
  {
   "cell_type": "code",
   "execution_count": 80,
   "metadata": {},
   "outputs": [
    {
     "data": {
      "image/png": "[encoded data removed]",
      "text/plain": [
       "<matplotlib.figure.Figure at 0x1db756207f0>"
      ]
     },
     "metadata": {},
     "output_type": "display_data"
    }
   ],
   "source": [
    "import pickle\n",
    "\n",
    "with open('idle.dat', 'rb') as f:\n",
    "    idleAnim = pickle.loads(f.read())\n",
    "    \n",
    "with open('wave.dat', 'rb') as f:\n",
    "    waveAnim = pickle.loads(f.read())\n",
    "    \n",
    "idleSkel = create_skeleton()\n",
    "read_key(idleSkel, idleAnim, 0)\n",
    "\n",
    "waveSkel = create_skeleton()\n",
    "read_key(waveSkel, waveAnim, 0)\n",
    "\n",
    "ax = plt.subplot(1,2,1)\n",
    "draw_skeleton_points(plt, waveSkel, 'r')\n",
    "draw_skeleton_joints(plt, waveSkel, 'r')\n",
    "draw_curve(plt, waveSkel, waveAnim, 18, 60, 'y')\n",
    "ax.set_aspect(1.0)\n",
    "\n",
    "ax = plt.subplot(1,2,2, sharey = ax)\n",
    "draw_skeleton_points(plt, idleSkel, 'b')\n",
    "draw_skeleton_joints(plt, idleSkel, 'b')\n",
    "draw_curve(plt, idleSkel, idleAnim, 18, 60, 'y')\n",
    "ax.set_aspect(1.0)\n",
    "\n",
    "plt.show()\n"
   ]
  },
  {
   "cell_type": "markdown",
   "metadata": {},
   "source": [
    "### Animation blend using lerp.\n",
    "\n",
    "Let's blend the two animations and see the trajectory created.\n",
    "\n",
    "We will display different timing and starting points."
   ]
  },
  {
   "cell_type": "code",
   "execution_count": 130,
   "metadata": {},
   "outputs": [
    {
     "data": {
      "image/png": "[encoded data removed]",
      "text/plain": [
       "<matplotlib.figure.Figure at 0x1db755a2940>"
      ]
     },
     "metadata": {},
     "output_type": "display_data"
    }
   ],
   "source": [
    "def blend_animation(skelA, skelB, skelOut, ratio):\n",
    "    for a, b, out in zip(skelA.bones, skelB.bones, skelOut.bones):\n",
    "        out.pq = PosQuat.lerp(a.pq, b.pq, ratio)\n",
    "        \n",
    "idleSkel = create_skeleton()\n",
    "read_key(idleSkel, idleAnim, 0)\n",
    "\n",
    "waveSkel = create_skeleton()\n",
    "read_key(waveSkel, waveAnim, 0)\n",
    "\n",
    "blendSkel = create_skeleton()\n",
    "read_key(blendSkel, waveAnim, 0)\n",
    "\n",
    "\n",
    "ax = plt.subplot(1,2,1)\n",
    "\n",
    "draw_skeleton_points(plt, waveSkel, 'r')\n",
    "draw_skeleton_joints(plt, waveSkel, 'r')\n",
    "\n",
    "draw_skeleton_points(plt, idleSkel, 'b')\n",
    "draw_skeleton_joints(plt, idleSkel, 'b')\n",
    "\n",
    "for i in range(60):\n",
    "    read_key(idleSkel, idleAnim, i)\n",
    "    read_key(waveSkel, waveAnim, i)\n",
    "    \n",
    "    start = blendSkel.globalPq(18).p._values\n",
    "    blend_animation(waveSkel, idleSkel, blendSkel, i/60.0)\n",
    "    end = blendSkel.globalPq(18).p._values\n",
    "    plt.plot([start[0],end[0]], [start[1],end[1]], color='y')\n",
    "\n",
    "ax.set_aspect(1.0)\n",
    "\n",
    "read_key(idleSkel, idleAnim, 10)\n",
    "read_key(waveSkel, waveAnim, 10)\n",
    "read_key(blendSkel, waveAnim, 10)\n",
    "\n",
    "ax = plt.subplot(1,2,2, sharey=ax)\n",
    "\n",
    "draw_skeleton_points(plt, waveSkel, 'r')\n",
    "draw_skeleton_joints(plt, waveSkel, 'r')\n",
    "\n",
    "draw_skeleton_points(plt, idleSkel, 'b')\n",
    "draw_skeleton_joints(plt, idleSkel, 'b')\n",
    "\n",
    "for i in range(13, 54):\n",
    "    read_key(idleSkel, idleAnim, i)\n",
    "    read_key(waveSkel, waveAnim, i)\n",
    "    \n",
    "    start = blendSkel.globalPq(18).p._values\n",
    "    blend_animation(waveSkel, idleSkel, blendSkel, (i-13.0)/40.0)\n",
    "    end = blendSkel.globalPq(18).p._values\n",
    "    plt.plot([start[0],end[0]], [start[1],end[1]], color='y')\n",
    "\n",
    "ax.set_aspect(1.0)"
   ]
  },
  {
   "cell_type": "markdown",
   "metadata": {},
   "source": [
    "## Inertialize Skeleton."
   ]
  },
  {
   "cell_type": "code",
   "execution_count": 131,
   "metadata": {},
   "outputs": [
    {
     "data": {
      "image/png": "[encoded data removed]",
      "text/plain": [
       "<matplotlib.figure.Figure at 0x1db75615cf8>"
      ]
     },
     "metadata": {},
     "output_type": "display_data"
    }
   ],
   "source": [
    "def inertialize_vector(previous, current, target, dt, blendTime, t):\n",
    "    vx0 = current - target\n",
    "    vxm1 = previous - target\n",
    "    \n",
    "    x0 = vx0.length()\n",
    "    if x0 < 0.01:\n",
    "        return target\n",
    "    \n",
    "    vx0_dir = vx0.normalize()\n",
    "\n",
    "    xm1 = vxm1.dot(vx0_dir)\n",
    "    v0 = (x0 - xm1) / dt\n",
    "    \n",
    "    xt = inertialize(x0, v0, blendTime, t)\n",
    "    \n",
    "    result = target + vx0_dir.scale(xt)\n",
    "    #print(previous,current, target, vx0, vxm1, x0, v0, xt, result)\n",
    "    \n",
    "    return result\n",
    "\n",
    "\n",
    "def inertialize_quaternion(previous, current, target, dt, blendTime, t):\n",
    "    q0 = current * target.conjugate()\n",
    "    q1 = previous * target.conjugate()\n",
    "     \n",
    "    vx0, x0 = q0.normalize().axisAngle()\n",
    " \n",
    "    xm1 = 2* math.atan(Vector(q1._values[1:4]).dot(vx0) / q1._values[0])\n",
    "    \n",
    "    v0 = (x0 - xm1) / dt\n",
    "    \n",
    "    xt = inertialize(x0, v0, blendTime, t)\n",
    "    return (Quaternion.fromAxisAngle(vx0, xt) * target).normalize()\n",
    "    \n",
    "    \n",
    "def draw_inertialize_skeleton(ax, previousSkel, currentSkel, targetAnim, blendFrame):\n",
    "    \n",
    "    workingSkel = create_skeleton()\n",
    "    read_key(workingSkel, targetAnim, 0)\n",
    "    \n",
    "    t1 = float(blendFrame)/30.0\n",
    "    for i in range(blendFrame):\n",
    "        \n",
    "        t = float(i)/30.0\n",
    "        \n",
    "        start = workingSkel.globalPq(18).p._values\n",
    "        read_key(workingSkel, targetAnim, i)\n",
    "        \n",
    "        for prev, cur, out in zip(previousSkel.bones, currentSkel.bones, workingSkel.bones):\n",
    "            p = inertialize_vector(prev.pq.p, cur.pq.p, out.pq.p, 1.0/30.0, t1, t)\n",
    "            q = inertialize_quaternion(prev.pq.q, cur.pq.q, out.pq.q, 1.0/30.0, t1, t)\n",
    "            out.pq = PosQuat(p=p, q=q)\n",
    "            \n",
    "        end = workingSkel.globalPq(18).p._values\n",
    "        ax.plot([start[0],end[0]], [start[1],end[1]], color='y')\n",
    "        #ax.scatter(end[0], end[1], color='y')\n",
    "\n",
    "        \n",
    "idleSkel = create_skeleton()\n",
    "read_key(idleSkel, idleAnim, 0)\n",
    "        \n",
    "waveSkel0 = create_skeleton()\n",
    "read_key(waveSkel0, waveAnim, 0)\n",
    "\n",
    "waveSkel1 = create_skeleton()\n",
    "read_key(waveSkel1, waveAnim, 1)\n",
    "\n",
    "\n",
    "ax = plt.subplot(1,2,1)\n",
    "\n",
    "draw_skeleton_points(plt, waveSkel1, 'r')\n",
    "draw_skeleton_joints(plt, waveSkel1, 'r')\n",
    "\n",
    "draw_skeleton_points(plt, idleSkel, 'b')\n",
    "draw_skeleton_joints(plt, idleSkel, 'b')\n",
    "\n",
    "draw_inertialize_skeleton(plt, waveSkel0, waveSkel1, idleAnim, 40 )\n",
    "\n",
    "ax.set_aspect(1.0)\n",
    "\n",
    "read_key(waveSkel0, waveAnim, 13)\n",
    "read_key(waveSkel1, waveAnim, 14)\n",
    "\n",
    "ax = plt.subplot(1,2,2, sharey=ax)\n",
    "\n",
    "draw_skeleton_points(plt, waveSkel1, 'r')\n",
    "draw_skeleton_joints(plt, waveSkel1, 'r')\n",
    "\n",
    "draw_skeleton_points(plt, idleSkel, 'b')\n",
    "draw_skeleton_joints(plt, idleSkel, 'b')\n",
    "\n",
    "draw_inertialize_skeleton(plt, waveSkel0, waveSkel1, idleAnim, 40 )\n",
    "\n",
    "ax.set_aspect(1.0)\n"
   ]
  }
 ],
 "metadata": {
  "kernelspec": {
   "display_name": "Python 3",
   "language": "python",
   "name": "python3"
  },
  "language_info": {
   "codemirror_mode": {
    "name": "ipython",
    "version": 3
   },
   "file_extension": ".py",
   "mimetype": "text/x-python",
   "name": "python",
   "nbconvert_exporter": "python",
   "pygments_lexer": "ipython3",
   "version": "3.6.3"
  }
 },
 "nbformat": 4,
 "nbformat_minor": 2
}
