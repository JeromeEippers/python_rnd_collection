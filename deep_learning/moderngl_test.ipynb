{
 "cells": [
  {
   "cell_type": "code",
   "execution_count": 1,
   "metadata": {},
   "outputs": [
    {
     "name": "stdout",
     "output_type": "stream",
     "text": [
      "3.7.9 (tags/v3.7.9:13c94747c7, Aug 17 2020, 18:58:18) [MSC v.1900 64 bit (AMD64)]\n"
     ]
    }
   ],
   "source": [
    "import sys\n",
    "fbxpath = r'D:\\Software\\fbx_python37_x64'\n",
    "if fbxpath not in sys.path:\n",
    "    sys.path.append(fbxpath)"
   ]
  },
  {
   "cell_type": "code",
   "execution_count": 4,
   "metadata": {},
   "outputs": [
    {
     "name": "stdout",
     "output_type": "stream",
     "text": [
      "<module 'PIL' from 'd:\\\\software\\\\python37_envs\\\\torch\\\\lib\\\\site-packages\\\\PIL\\\\__init__.py'>\n"
     ]
    },
    {
     "data": {
      "application/vnd.jupyter.widget-view+json": {
       "model_id": "384f93bdddbe44a79507a8e4ca004337",
       "version_major": 2,
       "version_minor": 0
      },
      "text/plain": [
       "IntSlider(value=10, layout=Layout(height='auto', width='auto'), max=20)"
      ]
     },
     "metadata": {},
     "output_type": "display_data"
    },
    {
     "data": {
      "application/vnd.jupyter.widget-view+json": {
       "model_id": "b7197479518048e898782637e31a5f9c",
       "version_major": 2,
       "version_minor": 0
      },
      "text/plain": [
       "Output()"
      ]
     },
     "metadata": {},
     "output_type": "display_data"
    }
   ],
   "source": [
    "%matplotlib inline\n",
    "import matplotlib.pyplot as plt\n",
    "\n",
    "import moderngl\n",
    "import numpy as np\n",
    "from pyrr import Matrix44\n",
    "\n",
    "\n",
    "from IPython.display import clear_output, display, Image\n",
    "import ipywidgets as widgets\n",
    "\n",
    "import PIL\n",
    "print(PIL)\n",
    "\n",
    "def grid(size, steps):\n",
    "    u = np.repeat(np.linspace(-size, size, steps), 2)\n",
    "    v = np.tile([-size, size], steps)\n",
    "    w = np.zeros(steps * 2)\n",
    "    return np.concatenate([np.dstack([u, w, v]), np.dstack([v, w, u])])\n",
    "\n",
    "# -------------------\n",
    "# CREATE CONTEXT HERE\n",
    "# -------------------\n",
    "\n",
    "ctx = moderngl.create_standalone_context()\n",
    "\n",
    "prog = ctx.program(\n",
    "    vertex_shader='''\n",
    "        #version 330\n",
    "        uniform mat4 Mvp;\n",
    "        in vec3 in_vert;\n",
    "        void main() {\n",
    "            gl_Position = Mvp * vec4(in_vert, 1.0);\n",
    "        }\n",
    "    ''',\n",
    "    fragment_shader='''\n",
    "        #version 330\n",
    "        out vec4 f_color;\n",
    "        void main() {\n",
    "            f_color = vec4(0.1, 0.1, 0.1, 1.0);\n",
    "        }\n",
    "    ''',\n",
    ")\n",
    "\n",
    "\n",
    "\n",
    "vbo = ctx.buffer(grid(15, 10).astype('f4'))\n",
    "vao = ctx.simple_vertex_array(prog, vbo, 'in_vert')\n",
    "\n",
    "fbo = ctx.simple_framebuffer([1280//2,720//2])\n",
    "fbo.use()\n",
    "\n",
    "\n",
    "\n",
    "def _render(x):\n",
    "    ctx.clear(1.0, 1.0, 1.0)\n",
    "    ctx.enable(moderngl.DEPTH_TEST)\n",
    "    \n",
    "    proj = Matrix44.perspective_projection(45.0, fbo.size[1]/fbo.size[0], 0.1, 1000.0)\n",
    "    lookat = Matrix44.look_at(\n",
    "        (0,x['new'],10),\n",
    "        (0.0, 0.0, 0.0),\n",
    "        (0.0, 1.0, 0.0),\n",
    "    )\n",
    "\n",
    "    prog['Mvp'].write((proj * lookat).astype('f4'))\n",
    "    vao.render(moderngl.LINES)\n",
    "\n",
    "    data = fbo.read(components=3)\n",
    "    img = np.frombuffer(data, np.dtype(np.uint8)).reshape(fbo.size[1],fbo.size[0],3)\n",
    "    with output:\n",
    "        clear_output()\n",
    "        display(PIL.Image.fromarray(img))\n",
    "\n",
    "    \n",
    "\n",
    "'''\n",
    "widgets.interact(\n",
    "    _render, \n",
    "    x=widgets.IntSlider(\n",
    "        min=0, \n",
    "        max=20, \n",
    "        step=1, \n",
    "        value=10, \n",
    "        layout=widgets.Layout(height='auto', width='auto')\n",
    "    )\n",
    ")\n",
    "'''\n",
    "\n",
    "slider = widgets.IntSlider(\n",
    "        min=0, \n",
    "        max=20, \n",
    "        step=1, \n",
    "        value=10, \n",
    "        layout=widgets.Layout(height='auto', width='auto')\n",
    "    )\n",
    "output = widgets.Output()\n",
    "display(slider, output)\n",
    "#_render()\n",
    "\n",
    "slider.observe(_render, names='value')"
   ]
  },
  {
   "cell_type": "code",
   "execution_count": 99,
   "metadata": {},
   "outputs": [
    {
     "data": {
      "application/javascript": [
       "define('mywidget', ['@jupyter-widgets/base'], function(widgets) {\n",
       "    var MyWidgetView = widgets.DOMWidgetView.extend({\n",
       "        render: function() {\n",
       "            MyWidgetView.__super__.render.apply(this, arguments);\n",
       "            this._count_changed();\n",
       "            this.listenTo(this.model, 'change:count', this._count_changed, this);\n",
       "        },\n",
       "\n",
       "        _count_changed: function() {\n",
       "            var old_value = this.model.previous('count');\n",
       "            var new_value = this.model.get('count');\n",
       "            this.el.textContent = String(old_value) + ' -> ' + String(new_value);\n",
       "        }\n",
       "    });\n",
       "\n",
       "    return {\n",
       "        MyWidgetView: MyWidgetView\n",
       "    }\n",
       "});\n"
      ],
      "text/plain": [
       "<IPython.core.display.Javascript object>"
      ]
     },
     "metadata": {},
     "output_type": "display_data"
    }
   ],
   "source": [
    "%%javascript\n",
    "define('mywidget', ['@jupyter-widgets/base'], function(widgets) {\n",
    "    var MyWidgetView = widgets.DOMWidgetView.extend({\n",
    "        render: function() {\n",
    "            MyWidgetView.__super__.render.apply(this, arguments);\n",
    "            this._count_changed();\n",
    "            this.listenTo(this.model, 'change:count', this._count_changed, this);\n",
    "        },\n",
    "\n",
    "        _count_changed: function() {\n",
    "            var old_value = this.model.previous('count');\n",
    "            var new_value = this.model.get('count');\n",
    "            this.el.textContent = String(old_value) + ' -> ' + String(new_value);\n",
    "        }\n",
    "    });\n",
    "\n",
    "    return {\n",
    "        MyWidgetView: MyWidgetView\n",
    "    }\n",
    "});"
   ]
  },
  {
   "cell_type": "code",
   "execution_count": 98,
   "metadata": {},
   "outputs": [],
   "source": [
    "from ipywidgets import DOMWidget\n",
    "from traitlets import Unicode, Int\n",
    "\n",
    "class MyWidget(DOMWidget):\n",
    "    _view_module = Unicode('mywidget').tag(sync=True)\n",
    "    _view_module_version = Unicode('0.1.0').tag(sync=True)\n",
    "    _view_name = Unicode('MyWidgetView').tag(sync=True)\n",
    "    count = Int().tag(sync=True)"
   ]
  },
  {
   "cell_type": "code",
   "execution_count": 101,
   "metadata": {},
   "outputs": [
    {
     "data": {
      "application/vnd.jupyter.widget-view+json": {
       "model_id": "60f54b2639bd42eaaf327292f84a5976",
       "version_major": 2,
       "version_minor": 0
      },
      "text/plain": [
       "MyWidget()"
      ]
     },
     "metadata": {},
     "output_type": "display_data"
    }
   ],
   "source": [
    "wid = MyWidget()\n",
    "display(wid)\n"
   ]
  },
  {
   "cell_type": "code",
   "execution_count": 102,
   "metadata": {},
   "outputs": [],
   "source": [
    "wid.count = 5\n"
   ]
  }
 ],
 "metadata": {
  "kernelspec": {
   "display_name": "Python 3",
   "language": "python",
   "name": "python3"
  },
  "language_info": {
   "codemirror_mode": {
    "name": "ipython",
    "version": 3
   },
   "file_extension": ".py",
   "mimetype": "text/x-python",
   "name": "python",
   "nbconvert_exporter": "python",
   "pygments_lexer": "ipython3",
   "version": "3.7.9"
  }
 },
 "nbformat": 4,
 "nbformat_minor": 2
}
